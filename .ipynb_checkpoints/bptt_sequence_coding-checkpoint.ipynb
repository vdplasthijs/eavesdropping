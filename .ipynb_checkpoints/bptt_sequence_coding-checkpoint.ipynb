{
 "cells": [
  {
   "cell_type": "code",
   "execution_count": 1,
   "metadata": {},
   "outputs": [],
   "source": [
    "import numpy as np\n",
    "import matplotlib.pyplot as plt\n",
    "import time, os, sys, pickle\n",
    "import seaborn as sns\n",
    "\n",
    "import torch\n",
    "from torch import nn\n",
    "import torch.nn.functional as F\n",
    "from torch.utils.data import TensorDataset, DataLoader\n",
    "\n",
    "import bptt_rnn as bp  # RNN, learning algorithm, loss function etc\n",
    "import plot_routines as pr  # plotting functions & directly related\n",
    "import rot_utilities as ru  # random utilies\n",
    "\n",
    "%load_ext autoreload\n",
    "%autoreload 2"
   ]
  },
  {
   "cell_type": "code",
   "execution_count": 2,
   "metadata": {},
   "outputs": [],
   "source": [
    "single_time_labels = ['0', 'A', '0', 'B', '0', 'C', '0', 'D', '0']\n",
    "double_time_labels = []\n",
    "double_time_labels_half = []\n",
    "for stl in single_time_labels:\n",
    "    double_time_labels.append(stl)\n",
    "    double_time_labels.append(stl)\n",
    "    double_time_labels_half.append(stl)\n",
    "    double_time_labels_half.append('')\n",
    "double_time_labels_blank = [x.replace('0', '') for x in double_time_labels]\n",
    "assert len(double_time_labels_half) == len(double_time_labels)"
   ]
  },
  {
   "cell_type": "markdown",
   "metadata": {},
   "source": [
    "## Create synthetic data\n",
    "There are 8 possible values: \n",
    "- 0 $blank/0$\n",
    "- 1 $A_1$\n",
    "- 2 $A_2$\n",
    "- 3 $B_1$\n",
    "- 4 $B_2$\n",
    "- 5 $C_1$\n",
    "- 6 $C_2$\n",
    "- 7 $D$\n",
    "\n",
    "Data points are thus 8-dim vectors, with:\n",
    "\n",
    "$z_{k, t} = (1_{0}, 1_{A_1}, 1_{A_2}, ... , 1_{D})$\n",
    "\n",
    "where $k$ is the trial index, and $t$ is the trial time. Hence $|z_{k, t}| = 1 $ before white noise is added. Trials will be either $T=9$ data points long (single), and of form:\n",
    "\n",
    "$ 0, A_{\\alpha}, 0, B_{\\alpha}, 0, C_{\\beta}, 0, D, 0 $\n",
    "\n",
    "or of length $T=18$ (double), and of form:\n",
    "\n",
    "$ 0, 0, A_{\\alpha}, A_{\\alpha}, 0, 0, B_{\\alpha}, B_{\\alpha}, 0, 0, C_{\\beta}, C_{\\beta}, 0, 0, D, D, 0, 0 $\n",
    "\n",
    "where $\\alpha, \\beta \\in (1, 2)$, although one can use shorter sequences for testing (e.g. $0, A_{\\alpha}, 0, B_{\\alpha}, 0$). The expected sequence is $\\alpha = \\beta$, and the unexpected sequence is $\\alpha \\neq \\beta$.\n",
    "\n",
    "Network input $x_k = z_{k, 0:T-1}$ and output $y_k = z_{k, 1:T}$. "
   ]
  },
  {
   "cell_type": "code",
   "execution_count": 114,
   "metadata": {},
   "outputs": [],
   "source": [
    "d_dict = {  # data parameters dictionary\n",
    "        'n_total': 1000,  # total number of data sequences\n",
    "        'n_freq': 8,  # blank through D\n",
    "        'n_times': 9,\n",
    "        'doublesse': True,\n",
    "        'ratio_train': 0.8,\n",
    "        'ratio_exp': 0.9,  # probabilities of switching between alpha nd beta\n",
    "        'noise_scale': 0.1\n",
    "        }\n",
    "if d_dict['doublesse']:\n",
    "    eval_times = np.arange(4, 17)  # double\n",
    "    d_dict['sequence'] = np.array(double_time_labels)\n",
    "elif d_dict['doublesse'] is False:\n",
    "    eval_times = np.arange(1, 8)  # single\n",
    "    d_dict['sequence'] = np.array(single_time_labels)\n",
    "t_dict = {'eval_times': eval_times}  # training paramter dictionary\n",
    "\n",
    "freq_labels = ['0', 'A1', 'A2', 'B1', 'B2', 'C1', 'C2', 'D']\n",
    "tmp0, tmp1 = bp.generate_synt_data(n_total=d_dict['n_total'], \n",
    "                                   n_times=d_dict['n_times'], \n",
    "                                   n_freq=d_dict['n_freq'],\n",
    "                                   ratio_train=d_dict['ratio_train'], \n",
    "                                   ratio_exp=d_dict['ratio_exp'], \n",
    "                                   noise_scale=d_dict['noise_scale'], \n",
    "                                   double_length=d_dict['doublesse'])\n",
    "x_train, y_train, x_test, y_test = tmp0\n",
    "labels_train, labels_test = tmp1"
   ]
  },
  {
   "cell_type": "code",
   "execution_count": null,
   "metadata": {},
   "outputs": [],
   "source": []
  },
  {
   "cell_type": "markdown",
   "metadata": {},
   "source": [
    "## RNN Model with BPTT\n",
    "\n",
    "#### RNN model:\n",
    "\n",
    "$(x_t, s_{t-1}) \\to s_t \\to \\hat{y}_t == y_t = x_{t+1} $\n",
    "\n",
    "within one trial $k$. \n",
    "Equations:\n",
    "\n",
    "$s_t = \\tanh( U \\cdot x_t + W \\cdot s_{t-1})$\n",
    "\n",
    "\n",
    "$\\hat{y}_t = softmax(V \\cdot s_t) = \\left( \\frac{e^{V_i \\cdot s_t}}{\\sum_i e^{V_i \\cdot s_t}} \\right), \\; for \\; i \\in (0, A_1, A_2 ... D)$\n",
    "\n",
    "where $U_{n x f}, W_{n x n}, V_{f x n}$ are matrices where $n$ is the number of RNN nodes and $f$ the number of input/output frequencies.\n",
    "\n",
    "#### Training procedure:\n",
    "\n",
    "The full sequence $x_k$ is forwarded through the model, yielding $\\hat{y}_k$. This is used to compute the loss function $L$, which error is backpropagated through time (BPTT) to the parameters $\\theta = (U, W, V)$ (updated with SGD probably). \n",
    "The loss function $L$ uses cross entropy and L1 regularisation:\n",
    "\n",
    "$L_k = \\sum_{\\tau} - y_{k, \\tau} \\log \\hat{y}_{k, \\tau} + \\lambda \\cdot ||\\theta||_1$\n",
    "\n",
    "where $\\tau$ defines the trial times that are taken into account for Loss computation. \n",
    "\n",
    "$ \\begin{equation}\n",
    "    \\tau =\n",
    "    \\begin{cases}\n",
    "      (0, 1, 2, ... 8), & \\text{all} \\\\\n",
    "      (1, 3, 5, 7), & \\text{non-blank (nb)}\\\\\n",
    "      (3, 5, 7), & \\text{non-initial nb (ninb)}\n",
    "    \\end{cases}\n",
    "  \\end{equation}$\n",
    "\n",
    "#### Initial conditions:\n",
    "\n",
    "Tricky.. Maybe start on each trials with either zero, or small-magnitude noise, for $s_{k, -1}$? The sequence $0, A_{\\alpha}, 0$ then should provide a sensible initialisation, needed for $B_{\\alpha}$ prediction... ?  \n",
    "\n",
    "\n",
    "#### Pseudo-algorithm:\n",
    "\n",
    "    for $it$ in epochs:\n",
    "        for $k$ in trials:\n",
    "            for $t$ in times:\n",
    "                rnn.forward($x_t$)\n",
    "            compute loss $L_k$\n",
    "            update parameters with BPTT\n"
   ]
  },
  {
   "cell_type": "code",
   "execution_count": 115,
   "metadata": {},
   "outputs": [],
   "source": [
    "## Set training parameters:\n",
    "t_dict['n_nodes'] = 20  # number of nodes in the RNN \n",
    "if d_dict['doublesse']:\n",
    "    t_dict['learning_rate'] = 0.002  # algorithm lr\n",
    "elif d_dict['doublesse'] is False:\n",
    "    t_dict['learning_rate'] = 0.05\n",
    "t_dict['bs'] = 1  # batch size\n",
    "t_dict['n_epochs'] = 40  # training epochs\n",
    "t_dict['l1_param'] = 5e-4  # L1 regularisation in loss function\n",
    "t_dict['check_conv'] = False  # check for convergence (and abort if converged)\n",
    "t_dict['conv_rel_tol'] = 5e-4  # assess convergence by relative difference between two epochs is smaller than this \n"
   ]
  },
  {
   "cell_type": "code",
   "execution_count": null,
   "metadata": {},
   "outputs": [],
   "source": []
  },
  {
   "cell_type": "markdown",
   "metadata": {},
   "source": [
    "## Train one single model"
   ]
  },
  {
   "cell_type": "code",
   "execution_count": 116,
   "metadata": {},
   "outputs": [],
   "source": [
    "## Initiate RNN model\n",
    "rnn = bp.RNN(n_stim=d_dict['n_freq'], n_nodes=t_dict['n_nodes'])  # Create RNN class\n",
    "opt = torch.optim.SGD(rnn.parameters(), lr=t_dict['learning_rate'])  # call optimiser from pytorhc\n",
    "rnn.set_info(param_dict={**d_dict, **t_dict})"
   ]
  },
  {
   "cell_type": "code",
   "execution_count": 117,
   "metadata": {},
   "outputs": [
    {
     "name": "stderr",
     "output_type": "stream",
     "text": [
      "Epoch 39/40. Train loss: 0.445609: 100%|██████████| 40/40 [03:18<00:00,  4.96s/it]     "
     ]
    },
    {
     "name": "stdout",
     "output_type": "stream",
     "text": [
      "Training finished. Results saved in RNN Class\n"
     ]
    },
    {
     "name": "stderr",
     "output_type": "stream",
     "text": [
      "\n"
     ]
    }
   ],
   "source": [
    "## Train with BPTT\n",
    "rnn = bp.bptt_training(rnn=rnn, optimiser=opt, dict_training_params=t_dict,\n",
    "                x_train=x_train, x_test=x_test, y_train=y_train, y_test=y_test)"
   ]
  },
  {
   "cell_type": "code",
   "execution_count": 43,
   "metadata": {},
   "outputs": [
    {
     "name": "stdout",
     "output_type": "stream",
     "text": [
      "RNN model saved as models/rnn_2020-05-06-0956.data\n"
     ]
    }
   ],
   "source": [
    "rnn.save_model()"
   ]
  },
  {
   "cell_type": "code",
   "execution_count": 118,
   "metadata": {},
   "outputs": [
    {
     "data": {
      "image/png": "[encoded data removed]",
      "text/plain": [
       "<Figure size 504x288 with 1 Axes>"
      ]
     },
     "metadata": {
      "needs_background": "light"
     },
     "output_type": "display_data"
    }
   ],
   "source": [
    "## Plot train/test loss during training\n",
    "plt.rcParams['figure.figsize'] = (7, 4)\n",
    "ax_conv = pr.plot_train_test_perf(rnn_model=rnn, ax=plt.subplot(111))"
   ]
  },
  {
   "cell_type": "code",
   "execution_count": 124,
   "metadata": {},
   "outputs": [
    {
     "name": "stdout",
     "output_type": "stream",
     "text": [
      "['22' '22' '22' '22' '21' '22' '22' '21' '11' '11' '11' '22' '22' '22'\n",
      " '11' '11' '22' '12' '22' '11' '11' '21' '22' '22' '11' '11' '11' '22'\n",
      " '22' '22' '22' '11' '11' '22' '22' '22' '11' '11' '11' '22' '22' '22'\n",
      " '22' '22' '11' '22' '22' '22' '22' '11' '21' '11' '11' '12' '11' '11'\n",
      " '11' '11' '22' '22' '11' '22' '22' '11' '11' '22' '22' '22' '11' '11'\n",
      " '22' '22' '21' '22' '11' '21' '22' '11' '22' '12' '22' '11' '22' '22'\n",
      " '11' '22' '22' '22' '11' '22' '11' '21' '11' '11' '11' '22' '11' '21'\n",
      " '11' '11' '22' '22' '11' '11' '11' '11' '22' '22' '12' '11' '22' '11'\n",
      " '11' '11' '22' '22' '11' '22' '22' '22' '11' '12' '22' '22' '11' '11'\n",
      " '12' '22' '22' '11' '22' '21' '22' '22' '11' '11' '22' '22' '11' '22'\n",
      " '11' '11' '11' '22' '11' '11' '22' '11' '22' '11' '11' '11' '11' '22'\n",
      " '21' '22' '11' '11' '11' '11' '22' '12' '11' '22' '11' '22' '11' '11'\n",
      " '22' '11' '11' '22' '22' '22' '11' '21' '11' '22' '21' '11' '11' '12'\n",
      " '22' '11' '21' '11' '11' '11' '22' '22' '22' '22' '22' '22' '11' '22'\n",
      " '21' '22' '11' '12']\n"
     ]
    }
   ],
   "source": [
    "print(labels_test)"
   ]
  },
  {
   "cell_type": "code",
   "execution_count": 119,
   "metadata": {},
   "outputs": [
    {
     "name": "stdout",
     "output_type": "stream",
     "text": [
      "torch.Size([17, 8])\n"
     ]
    },
    {
     "data": {
      "text/plain": [
       "<matplotlib.image.AxesImage at 0x7f0cb65bcf28>"
      ]
     },
     "execution_count": 119,
     "metadata": {},
     "output_type": "execute_result"
    },
    {
     "data": {
      "image/png": "[encoded data removed]",
      "text/plain": [
       "<Figure size 504x288 with 1 Axes>"
      ]
     },
     "metadata": {
      "needs_background": "light"
     },
     "output_type": "display_data"
    }
   ],
   "source": [
    "print(x_test[k, :, :].shape)\n",
    "# x_test[k, np.array([2, 3]), 0] = 1\n",
    "# x_test[k, np.array([2, 3]), 7] = 0\n",
    "# x_test[k, np.array([6, 7]), 4] = 0\n",
    "# x_test[k, np.array([6, 7]), 0] = 1\n",
    "plt.imshow(x_test[k, :, :])"
   ]
  },
  {
   "cell_type": "code",
   "execution_count": 125,
   "metadata": {},
   "outputs": [
    {
     "name": "stdout",
     "output_type": "stream",
     "text": [
      "Trial type: 21\n"
     ]
    },
    {
     "data": {
      "image/png": "[encoded data removed]",
      "text/plain": [
       "<Figure size 864x288 with 4 Axes>"
      ]
     },
     "metadata": {
      "needs_background": "light"
     },
     "output_type": "display_data"
    }
   ],
   "source": [
    "## Plot example test sample & prediction\n",
    "k = 4\n",
    "print(f'Trial type: {labels_test[k]}')\n",
    "pred = bp.compute_full_pred(x_test[k,:,:], model=rnn)\n",
    "plt.rcParams['figure.figsize'] = (12, 4)\n",
    "\n",
    "plt.subplot(121)\n",
    "sns.heatmap(y_test[k, :, :].numpy().T, yticklabels=freq_labels)\n",
    "plt.title(\"y test data\"); plt.xlabel('Time'); plt.ylabel('True data')\n",
    "\n",
    "plt.subplot(122)\n",
    "sns.heatmap(pred.mean(0).detach().numpy().T, vmax=1, vmin=0, yticklabels=freq_labels)\n",
    "plt.title(\"predicted y data\"); plt.xlabel('Time'); plt.ylabel(\"Predictions\");"
   ]
  },
  {
   "cell_type": "code",
   "execution_count": 54,
   "metadata": {},
   "outputs": [
    {
     "data": {
      "image/png": "[encoded data removed]",
      "text/plain": [
       "<Figure size 1296x360 with 6 Axes>"
      ]
     },
     "metadata": {
      "needs_background": "light"
     },
     "output_type": "display_data"
    }
   ],
   "source": [
    "## Plot weight matrices U, W, V\n",
    "plt.rcParams['figure.figsize'] = (18, 5)\n",
    "w_order = pr.opt_leaf(w_mat=rnn.lin_output, dim=1)\n",
    "_ = pr.plot_all_UWV(rnn_model=rnn, freq_labels=freq_labels, weight_order=w_order)"
   ]
  },
  {
   "cell_type": "markdown",
   "metadata": {},
   "source": [
    "## Cross temporal decoding\n",
    "\n",
    "Each sequence $seq_k$ has labels $\\alpha, \\beta$. We wish to decode $\\alpha$ dynamically per time point, in a cross-temporal manner, from the RNN hidden state $s_t$. Id est, we will create a decoder $dec(t | \\tau) = P(\\alpha = 1 | \\tau)_t$ that is trained at time $\\tau$ but evaluated at time $t$. We can choose to train our decoder with either or both $(\\alpha = \\beta)$ and $(\\alpha \\neq \\beta)$ sequences. To decode, we will use a linear SVM with L2 regularisation (from sklearn). \n",
    "\n",
    "#### Pseudocode\n",
    "\n",
    "    forward run of all trials\n",
    "    for $\\tau$ in T:\n",
    "        train P($\\alpha$ | $\\tau$)\n",
    "        for t in T:\n",
    "            evaluate P($\\alpha$ | $\\tau$)_t"
   ]
  },
  {
   "cell_type": "code",
   "execution_count": 28,
   "metadata": {},
   "outputs": [],
   "source": [
    "score_mat, decoder_dict = bp.train_decoder(rnn_model=rnn, x_train=x_train, x_test=x_test,\n",
    "                                           labels_train=labels_train, labels_test=labels_test,\n",
    "                                           dict_training_params=t_dict)"
   ]
  },
  {
   "cell_type": "code",
   "execution_count": 29,
   "metadata": {
    "scrolled": false
   },
   "outputs": [
    {
     "data": {
      "image/png": "[encoded data removed]",
      "text/plain": [
       "<Figure size 432x360 with 2 Axes>"
      ]
     },
     "metadata": {
      "needs_background": "light"
     },
     "output_type": "display_data"
    }
   ],
   "source": [
    "# score_mat[0, 5] = -10\n",
    "plt.rcParams['figure.figsize'] = (6, 5)\n",
    "ax_score = pr.plot_decoder_crosstemp_perf(score_matrix=score_mat, ax=plt.subplot(111),\n",
    "                               ticklabels=double_time_labels_blank[:-1])"
   ]
  },
  {
   "cell_type": "code",
   "execution_count": null,
   "metadata": {},
   "outputs": [],
   "source": [
    "angle_change = np.zeros(x_train.shape[1] - 1)\n",
    "for tau in range(x_train.shape[1] - 1):\n",
    "    angle_change[tau] = np.sum(np.abs(decoder_dict[tau].coef_ - decoder_dict[tau + 1].coef_))\n",
    "    \n",
    "plt.rcParams['figure.figsize'] = (5, 3)\n",
    "f, ax_ac = plt.subplots(1, 1)\n",
    "ax_ac.plot(angle_change, linewidth=3)\n",
    "ax_ac.set_xlabel('Time t'); ax_ac.set_ylabel('L1 norm between t and (t + 1)')\n",
    "ax_ac.set_title('Instanteous change in decoder')\n",
    "ax_ac.set_xticks(np.arange(len(angle_change)));\n",
    "ax_ac.set_xticklabels(double_time_labels_blank[:-2]);"
   ]
  },
  {
   "cell_type": "code",
   "execution_count": null,
   "metadata": {},
   "outputs": [],
   "source": [
    "decoder_axes = np.zeros((decoder_dict[0].coef_.size, len(decoder_dict)))\n",
    "for k, v in decoder_dict.items():\n",
    "    decoder_axes[:, k] = v.coef_\n",
    "cutoff_w = np.percentile(np.abs(decoder_axes), 95)\n",
    "plt.rcParams['figure.figsize'] = (4, 6)\n",
    "ax_dec_diag = plt.subplot(3, 1, 1)\n",
    "ax_dec_diag.plot(np.diag(score_mat), linewidth=3)\n",
    "ax_dec_diag.set_ylabel('Score')\n",
    "ax_dec_diag.set_title('Decoding performance (t = tau)')\n",
    "ax_dec_diag.set_xticks(np.arange(len(np.diag(score_mat))));\n",
    "ax_dec_diag.set_xticklabels(double_time_labels_blank[:-1]);\n",
    "ax_dec_diag.set_xlim([-0.5, len(np.diag(score_mat)) - 0.5])\n",
    "plt.subplot(3, 1, (2, 3))\n",
    "ax_dec_w = sns.heatmap(decoder_axes, xticklabels=double_time_labels_blank[:-1],\n",
    "                      vmin=-1 * cutoff_w, vmax=cutoff_w, cmap='PiYG', cbar=False)\n",
    "bottom, top = ax_dec_w.get_ylim()\n",
    "ax_dec_w.set_ylim(bottom + 0.5, top - 0.5)\n",
    "plt.xlabel('Time t'); plt.ylabel('Neuron');"
   ]
  },
  {
   "cell_type": "code",
   "execution_count": null,
   "metadata": {},
   "outputs": [],
   "source": []
  },
  {
   "cell_type": "code",
   "execution_count": null,
   "metadata": {},
   "outputs": [],
   "source": [
    "plt.imshow(forw_mat['train'][12, :, :].T - forw_mat['train'][0, :, :].T, \n",
    "           vmax=0.75, vmin=-0.75, cmap='PiYG')\n",
    "plt.colorbar()"
   ]
  },
  {
   "cell_type": "markdown",
   "metadata": {},
   "source": [
    "## Train & save multiple models"
   ]
  },
  {
   "cell_type": "code",
   "execution_count": null,
   "metadata": {
    "scrolled": true
   },
   "outputs": [
    {
     "name": "stderr",
     "output_type": "stream",
     "text": [
      "Initialising training; start at epoch 0:   0%|          | 0/40 [00:00<?, ?it/s]"
     ]
    },
    {
     "name": "stdout",
     "output_type": "stream",
     "text": [
      "\n",
      "-----------\n",
      "simulation 0/100\n"
     ]
    },
    {
     "name": "stderr",
     "output_type": "stream",
     "text": [
      "Epoch 39/40. Train loss: 0.815417: 100%|██████████| 40/40 [03:05<00:00,  4.64s/it]     \n"
     ]
    },
    {
     "name": "stdout",
     "output_type": "stream",
     "text": [
      "Training finished. Results savedin RNN Class\n"
     ]
    },
    {
     "name": "stderr",
     "output_type": "stream",
     "text": [
      "Initialising training; start at epoch 0:   0%|          | 0/40 [00:00<?, ?it/s]"
     ]
    },
    {
     "name": "stdout",
     "output_type": "stream",
     "text": [
      "RNN model saved as models/5050_Xmodels/rnn_2020-05-06-1033.data\n",
      "\n",
      "-----------\n",
      "simulation 1/100\n"
     ]
    },
    {
     "name": "stderr",
     "output_type": "stream",
     "text": [
      "Epoch 39/40. Train loss: 0.812653: 100%|██████████| 40/40 [03:17<00:00,  4.93s/it]     \n"
     ]
    },
    {
     "name": "stdout",
     "output_type": "stream",
     "text": [
      "Training finished. Results savedin RNN Class\n"
     ]
    },
    {
     "name": "stderr",
     "output_type": "stream",
     "text": [
      "Initialising training; start at epoch 0:   0%|          | 0/40 [00:00<?, ?it/s]"
     ]
    },
    {
     "name": "stdout",
     "output_type": "stream",
     "text": [
      "RNN model saved as models/5050_Xmodels/rnn_2020-05-06-1036.data\n",
      "\n",
      "-----------\n",
      "simulation 2/100\n"
     ]
    },
    {
     "name": "stderr",
     "output_type": "stream",
     "text": [
      "Epoch 39/40. Train loss: 0.826085: 100%|██████████| 40/40 [03:23<00:00,  5.09s/it]     \n"
     ]
    },
    {
     "name": "stdout",
     "output_type": "stream",
     "text": [
      "Training finished. Results savedin RNN Class\n"
     ]
    },
    {
     "name": "stderr",
     "output_type": "stream",
     "text": [
      "Initialising training; start at epoch 0:   0%|          | 0/40 [00:00<?, ?it/s]"
     ]
    },
    {
     "name": "stdout",
     "output_type": "stream",
     "text": [
      "RNN model saved as models/5050_Xmodels/rnn_2020-05-06-1039.data\n",
      "\n",
      "-----------\n",
      "simulation 3/100\n"
     ]
    },
    {
     "name": "stderr",
     "output_type": "stream",
     "text": [
      "Epoch 39/40. Train loss: 0.833247: 100%|██████████| 40/40 [03:16<00:00,  4.91s/it]     \n"
     ]
    },
    {
     "name": "stdout",
     "output_type": "stream",
     "text": [
      "Training finished. Results savedin RNN Class\n"
     ]
    },
    {
     "name": "stderr",
     "output_type": "stream",
     "text": [
      "Initialising training; start at epoch 0:   0%|          | 0/40 [00:00<?, ?it/s]"
     ]
    },
    {
     "name": "stdout",
     "output_type": "stream",
     "text": [
      "RNN model saved as models/5050_Xmodels/rnn_2020-05-06-1043.data\n",
      "\n",
      "-----------\n",
      "simulation 4/100\n"
     ]
    },
    {
     "name": "stderr",
     "output_type": "stream",
     "text": [
      "Epoch 39/40. Train loss: 0.818137: 100%|██████████| 40/40 [03:25<00:00,  5.14s/it]     \n"
     ]
    },
    {
     "name": "stdout",
     "output_type": "stream",
     "text": [
      "Training finished. Results savedin RNN Class\n"
     ]
    },
    {
     "name": "stderr",
     "output_type": "stream",
     "text": [
      "Initialising training; start at epoch 0:   0%|          | 0/40 [00:00<?, ?it/s]"
     ]
    },
    {
     "name": "stdout",
     "output_type": "stream",
     "text": [
      "RNN model saved as models/5050_Xmodels/rnn_2020-05-06-1046.data\n",
      "\n",
      "-----------\n",
      "simulation 5/100\n"
     ]
    },
    {
     "name": "stderr",
     "output_type": "stream",
     "text": [
      "Epoch 39/40. Train loss: 0.813682: 100%|██████████| 40/40 [03:27<00:00,  5.20s/it]     \n"
     ]
    },
    {
     "name": "stdout",
     "output_type": "stream",
     "text": [
      "Training finished. Results savedin RNN Class\n"
     ]
    },
    {
     "name": "stderr",
     "output_type": "stream",
     "text": [
      "Initialising training; start at epoch 0:   0%|          | 0/40 [00:00<?, ?it/s]"
     ]
    },
    {
     "name": "stdout",
     "output_type": "stream",
     "text": [
      "RNN model saved as models/5050_Xmodels/rnn_2020-05-06-1050.data\n",
      "\n",
      "-----------\n",
      "simulation 6/100\n"
     ]
    },
    {
     "name": "stderr",
     "output_type": "stream",
     "text": [
      "Epoch 39/40. Train loss: 0.816532: 100%|██████████| 40/40 [03:23<00:00,  5.09s/it]     \n"
     ]
    },
    {
     "name": "stdout",
     "output_type": "stream",
     "text": [
      "Training finished. Results savedin RNN Class\n"
     ]
    },
    {
     "name": "stderr",
     "output_type": "stream",
     "text": [
      "Initialising training; start at epoch 0:   0%|          | 0/40 [00:00<?, ?it/s]"
     ]
    },
    {
     "name": "stdout",
     "output_type": "stream",
     "text": [
      "RNN model saved as models/5050_Xmodels/rnn_2020-05-06-1053.data\n",
      "\n",
      "-----------\n",
      "simulation 7/100\n"
     ]
    },
    {
     "name": "stderr",
     "output_type": "stream",
     "text": [
      "Epoch 39/40. Train loss: 0.815418: 100%|██████████| 40/40 [03:35<00:00,  5.40s/it]     \n"
     ]
    },
    {
     "name": "stdout",
     "output_type": "stream",
     "text": [
      "Training finished. Results savedin RNN Class\n"
     ]
    },
    {
     "name": "stderr",
     "output_type": "stream",
     "text": [
      "Initialising training; start at epoch 0:   0%|          | 0/40 [00:00<?, ?it/s]"
     ]
    },
    {
     "name": "stdout",
     "output_type": "stream",
     "text": [
      "RNN model saved as models/5050_Xmodels/rnn_2020-05-06-1057.data\n",
      "\n",
      "-----------\n",
      "simulation 8/100\n"
     ]
    },
    {
     "name": "stderr",
     "output_type": "stream",
     "text": [
      "Epoch 39/40. Train loss: 0.818324: 100%|██████████| 40/40 [03:22<00:00,  5.06s/it]     \n"
     ]
    },
    {
     "name": "stdout",
     "output_type": "stream",
     "text": [
      "Training finished. Results savedin RNN Class\n"
     ]
    },
    {
     "name": "stderr",
     "output_type": "stream",
     "text": [
      "Initialising training; start at epoch 0:   0%|          | 0/40 [00:00<?, ?it/s]"
     ]
    },
    {
     "name": "stdout",
     "output_type": "stream",
     "text": [
      "RNN model saved as models/5050_Xmodels/rnn_2020-05-06-1100.data\n",
      "\n",
      "-----------\n",
      "simulation 9/100\n"
     ]
    },
    {
     "name": "stderr",
     "output_type": "stream",
     "text": [
      "Epoch 39/40. Train loss: 0.812783: 100%|██████████| 40/40 [03:22<00:00,  5.07s/it]     \n"
     ]
    },
    {
     "name": "stdout",
     "output_type": "stream",
     "text": [
      "Training finished. Results savedin RNN Class\n"
     ]
    },
    {
     "name": "stderr",
     "output_type": "stream",
     "text": [
      "Initialising training; start at epoch 0:   0%|          | 0/40 [00:00<?, ?it/s]"
     ]
    },
    {
     "name": "stdout",
     "output_type": "stream",
     "text": [
      "RNN model saved as models/5050_Xmodels/rnn_2020-05-06-1103.data\n",
      "\n",
      "-----------\n",
      "simulation 10/100\n"
     ]
    },
    {
     "name": "stderr",
     "output_type": "stream",
     "text": [
      "Epoch 39/40. Train loss: 0.813447: 100%|██████████| 40/40 [03:14<00:00,  4.85s/it]     \n"
     ]
    },
    {
     "name": "stdout",
     "output_type": "stream",
     "text": [
      "Training finished. Results savedin RNN Class\n"
     ]
    },
    {
     "name": "stderr",
     "output_type": "stream",
     "text": [
      "Initialising training; start at epoch 0:   0%|          | 0/40 [00:00<?, ?it/s]"
     ]
    },
    {
     "name": "stdout",
     "output_type": "stream",
     "text": [
      "RNN model saved as models/5050_Xmodels/rnn_2020-05-06-1107.data\n",
      "\n",
      "-----------\n",
      "simulation 11/100\n"
     ]
    },
    {
     "name": "stderr",
     "output_type": "stream",
     "text": [
      "Epoch 39/40. Train loss: 0.82501: 100%|██████████| 40/40 [03:12<00:00,  4.81s/it]      \n"
     ]
    },
    {
     "name": "stdout",
     "output_type": "stream",
     "text": [
      "Training finished. Results savedin RNN Class\n"
     ]
    },
    {
     "name": "stderr",
     "output_type": "stream",
     "text": [
      "Initialising training; start at epoch 0:   0%|          | 0/40 [00:00<?, ?it/s]"
     ]
    },
    {
     "name": "stdout",
     "output_type": "stream",
     "text": [
      "RNN model saved as models/5050_Xmodels/rnn_2020-05-06-1110.data\n",
      "\n",
      "-----------\n",
      "simulation 12/100\n"
     ]
    },
    {
     "name": "stderr",
     "output_type": "stream",
     "text": [
      "Epoch 39/40. Train loss: 0.816038: 100%|██████████| 40/40 [03:31<00:00,  5.30s/it]     \n"
     ]
    },
    {
     "name": "stdout",
     "output_type": "stream",
     "text": [
      "Training finished. Results savedin RNN Class\n"
     ]
    },
    {
     "name": "stderr",
     "output_type": "stream",
     "text": [
      "Initialising training; start at epoch 0:   0%|          | 0/40 [00:00<?, ?it/s]"
     ]
    },
    {
     "name": "stdout",
     "output_type": "stream",
     "text": [
      "RNN model saved as models/5050_Xmodels/rnn_2020-05-06-1113.data\n",
      "\n",
      "-----------\n",
      "simulation 13/100\n"
     ]
    },
    {
     "name": "stderr",
     "output_type": "stream",
     "text": [
      "Epoch 39/40. Train loss: 0.816537: 100%|██████████| 40/40 [03:38<00:00,  5.46s/it]     \n"
     ]
    },
    {
     "name": "stdout",
     "output_type": "stream",
     "text": [
      "Training finished. Results savedin RNN Class\n"
     ]
    },
    {
     "name": "stderr",
     "output_type": "stream",
     "text": [
      "Initialising training; start at epoch 0:   0%|          | 0/40 [00:00<?, ?it/s]"
     ]
    },
    {
     "name": "stdout",
     "output_type": "stream",
     "text": [
      "RNN model saved as models/5050_Xmodels/rnn_2020-05-06-1117.data\n",
      "\n",
      "-----------\n",
      "simulation 14/100\n"
     ]
    },
    {
     "name": "stderr",
     "output_type": "stream",
     "text": [
      "Epoch 39/40. Train loss: 0.817697: 100%|██████████| 40/40 [03:14<00:00,  4.87s/it]     \n"
     ]
    },
    {
     "name": "stdout",
     "output_type": "stream",
     "text": [
      "Training finished. Results savedin RNN Class\n"
     ]
    },
    {
     "name": "stderr",
     "output_type": "stream",
     "text": [
      "Initialising training; start at epoch 0:   0%|          | 0/40 [00:00<?, ?it/s]"
     ]
    },
    {
     "name": "stdout",
     "output_type": "stream",
     "text": [
      "RNN model saved as models/5050_Xmodels/rnn_2020-05-06-1120.data\n",
      "\n",
      "-----------\n",
      "simulation 15/100\n"
     ]
    },
    {
     "name": "stderr",
     "output_type": "stream",
     "text": [
      "Epoch 39/40. Train loss: 0.82428: 100%|██████████| 40/40 [03:13<00:00,  4.83s/it]      \n"
     ]
    },
    {
     "name": "stdout",
     "output_type": "stream",
     "text": [
      "Training finished. Results savedin RNN Class\n"
     ]
    },
    {
     "name": "stderr",
     "output_type": "stream",
     "text": [
      "Initialising training; start at epoch 0:   0%|          | 0/40 [00:00<?, ?it/s]"
     ]
    },
    {
     "name": "stdout",
     "output_type": "stream",
     "text": [
      "RNN model saved as models/5050_Xmodels/rnn_2020-05-06-1124.data\n",
      "\n",
      "-----------\n",
      "simulation 16/100\n"
     ]
    },
    {
     "name": "stderr",
     "output_type": "stream",
     "text": [
      "Epoch 39/40. Train loss: 0.817297: 100%|██████████| 40/40 [03:10<00:00,  4.77s/it]     \n"
     ]
    },
    {
     "name": "stdout",
     "output_type": "stream",
     "text": [
      "Training finished. Results savedin RNN Class\n"
     ]
    },
    {
     "name": "stderr",
     "output_type": "stream",
     "text": [
      "Initialising training; start at epoch 0:   0%|          | 0/40 [00:00<?, ?it/s]"
     ]
    },
    {
     "name": "stdout",
     "output_type": "stream",
     "text": [
      "RNN model saved as models/5050_Xmodels/rnn_2020-05-06-1127.data\n",
      "\n",
      "-----------\n",
      "simulation 17/100\n"
     ]
    },
    {
     "name": "stderr",
     "output_type": "stream",
     "text": [
      "Epoch 39/40. Train loss: 0.822083: 100%|██████████| 40/40 [03:10<00:00,  4.77s/it]     \n"
     ]
    },
    {
     "name": "stdout",
     "output_type": "stream",
     "text": [
      "Training finished. Results savedin RNN Class\n"
     ]
    },
    {
     "name": "stderr",
     "output_type": "stream",
     "text": [
      "Initialising training; start at epoch 0:   0%|          | 0/40 [00:00<?, ?it/s]"
     ]
    },
    {
     "name": "stdout",
     "output_type": "stream",
     "text": [
      "RNN model saved as models/5050_Xmodels/rnn_2020-05-06-1130.data\n",
      "\n",
      "-----------\n",
      "simulation 18/100\n"
     ]
    },
    {
     "name": "stderr",
     "output_type": "stream",
     "text": [
      "Epoch 39/40. Train loss: 0.818586: 100%|██████████| 40/40 [03:11<00:00,  4.78s/it]     \n"
     ]
    },
    {
     "name": "stdout",
     "output_type": "stream",
     "text": [
      "Training finished. Results savedin RNN Class\n"
     ]
    },
    {
     "name": "stderr",
     "output_type": "stream",
     "text": [
      "Initialising training; start at epoch 0:   0%|          | 0/40 [00:00<?, ?it/s]"
     ]
    },
    {
     "name": "stdout",
     "output_type": "stream",
     "text": [
      "RNN model saved as models/5050_Xmodels/rnn_2020-05-06-1133.data\n",
      "\n",
      "-----------\n",
      "simulation 19/100\n"
     ]
    },
    {
     "name": "stderr",
     "output_type": "stream",
     "text": [
      "Epoch 39/40. Train loss: 0.824996: 100%|██████████| 40/40 [03:08<00:00,  4.71s/it]     \n"
     ]
    },
    {
     "name": "stdout",
     "output_type": "stream",
     "text": [
      "Training finished. Results savedin RNN Class\n"
     ]
    },
    {
     "name": "stderr",
     "output_type": "stream",
     "text": [
      "Initialising training; start at epoch 0:   0%|          | 0/40 [00:00<?, ?it/s]"
     ]
    },
    {
     "name": "stdout",
     "output_type": "stream",
     "text": [
      "RNN model saved as models/5050_Xmodels/rnn_2020-05-06-1136.data\n",
      "\n",
      "-----------\n",
      "simulation 20/100\n"
     ]
    },
    {
     "name": "stderr",
     "output_type": "stream",
     "text": [
      "Epoch 39/40. Train loss: 0.818219: 100%|██████████| 40/40 [03:12<00:00,  4.82s/it]     \n"
     ]
    },
    {
     "name": "stdout",
     "output_type": "stream",
     "text": [
      "Training finished. Results savedin RNN Class\n"
     ]
    },
    {
     "name": "stderr",
     "output_type": "stream",
     "text": [
      "Initialising training; start at epoch 0:   0%|          | 0/40 [00:00<?, ?it/s]"
     ]
    },
    {
     "name": "stdout",
     "output_type": "stream",
     "text": [
      "RNN model saved as models/5050_Xmodels/rnn_2020-05-06-1140.data\n",
      "\n",
      "-----------\n",
      "simulation 21/100\n"
     ]
    },
    {
     "name": "stderr",
     "output_type": "stream",
     "text": [
      "Epoch 39/40. Train loss: 0.820952: 100%|██████████| 40/40 [03:11<00:00,  4.80s/it]     \n"
     ]
    },
    {
     "name": "stdout",
     "output_type": "stream",
     "text": [
      "Training finished. Results savedin RNN Class\n"
     ]
    },
    {
     "name": "stderr",
     "output_type": "stream",
     "text": [
      "Initialising training; start at epoch 0:   0%|          | 0/40 [00:00<?, ?it/s]"
     ]
    },
    {
     "name": "stdout",
     "output_type": "stream",
     "text": [
      "RNN model saved as models/5050_Xmodels/rnn_2020-05-06-1143.data\n",
      "\n",
      "-----------\n",
      "simulation 22/100\n"
     ]
    },
    {
     "name": "stderr",
     "output_type": "stream",
     "text": [
      "Epoch 39/40. Train loss: 0.821727: 100%|██████████| 40/40 [03:05<00:00,  4.65s/it]     \n"
     ]
    },
    {
     "name": "stdout",
     "output_type": "stream",
     "text": [
      "Training finished. Results savedin RNN Class\n"
     ]
    },
    {
     "name": "stderr",
     "output_type": "stream",
     "text": [
      "Initialising training; start at epoch 0:   0%|          | 0/40 [00:00<?, ?it/s]"
     ]
    },
    {
     "name": "stdout",
     "output_type": "stream",
     "text": [
      "RNN model saved as models/5050_Xmodels/rnn_2020-05-06-1146.data\n",
      "\n",
      "-----------\n",
      "simulation 23/100\n"
     ]
    },
    {
     "name": "stderr",
     "output_type": "stream",
     "text": [
      "Epoch 39/40. Train loss: 0.826019: 100%|██████████| 40/40 [03:14<00:00,  4.86s/it]     \n"
     ]
    },
    {
     "name": "stdout",
     "output_type": "stream",
     "text": [
      "Training finished. Results savedin RNN Class\n"
     ]
    },
    {
     "name": "stderr",
     "output_type": "stream",
     "text": [
      "Initialising training; start at epoch 0:   0%|          | 0/40 [00:00<?, ?it/s]"
     ]
    },
    {
     "name": "stdout",
     "output_type": "stream",
     "text": [
      "RNN model saved as models/5050_Xmodels/rnn_2020-05-06-1149.data\n",
      "\n",
      "-----------\n",
      "simulation 24/100\n"
     ]
    },
    {
     "name": "stderr",
     "output_type": "stream",
     "text": [
      "Epoch 39/40. Train loss: 0.82358: 100%|██████████| 40/40 [03:14<00:00,  4.85s/it]      \n"
     ]
    },
    {
     "name": "stdout",
     "output_type": "stream",
     "text": [
      "Training finished. Results savedin RNN Class\n"
     ]
    },
    {
     "name": "stderr",
     "output_type": "stream",
     "text": [
      "Initialising training; start at epoch 0:   0%|          | 0/40 [00:00<?, ?it/s]"
     ]
    },
    {
     "name": "stdout",
     "output_type": "stream",
     "text": [
      "RNN model saved as models/5050_Xmodels/rnn_2020-05-06-1153.data\n",
      "\n",
      "-----------\n",
      "simulation 25/100\n"
     ]
    },
    {
     "name": "stderr",
     "output_type": "stream",
     "text": [
      "Epoch 39/40. Train loss: 0.819823: 100%|██████████| 40/40 [03:08<00:00,  4.70s/it]     \n"
     ]
    },
    {
     "name": "stdout",
     "output_type": "stream",
     "text": [
      "Training finished. Results savedin RNN Class\n"
     ]
    },
    {
     "name": "stderr",
     "output_type": "stream",
     "text": [
      "Initialising training; start at epoch 0:   0%|          | 0/40 [00:00<?, ?it/s]"
     ]
    },
    {
     "name": "stdout",
     "output_type": "stream",
     "text": [
      "RNN model saved as models/5050_Xmodels/rnn_2020-05-06-1156.data\n",
      "\n",
      "-----------\n",
      "simulation 26/100\n"
     ]
    },
    {
     "name": "stderr",
     "output_type": "stream",
     "text": [
      "Epoch 39/40. Train loss: 0.822574: 100%|██████████| 40/40 [03:13<00:00,  4.83s/it]     \n"
     ]
    },
    {
     "name": "stdout",
     "output_type": "stream",
     "text": [
      "Training finished. Results savedin RNN Class\n"
     ]
    },
    {
     "name": "stderr",
     "output_type": "stream",
     "text": [
      "Initialising training; start at epoch 0:   0%|          | 0/40 [00:00<?, ?it/s]"
     ]
    },
    {
     "name": "stdout",
     "output_type": "stream",
     "text": [
      "RNN model saved as models/5050_Xmodels/rnn_2020-05-06-1159.data\n",
      "\n",
      "-----------\n",
      "simulation 27/100\n"
     ]
    },
    {
     "name": "stderr",
     "output_type": "stream",
     "text": [
      "Epoch 39/40. Train loss: 0.816648: 100%|██████████| 40/40 [03:14<00:00,  4.87s/it]     \n"
     ]
    },
    {
     "name": "stdout",
     "output_type": "stream",
     "text": [
      "Training finished. Results savedin RNN Class\n"
     ]
    },
    {
     "name": "stderr",
     "output_type": "stream",
     "text": [
      "Initialising training; start at epoch 0:   0%|          | 0/40 [00:00<?, ?it/s]"
     ]
    },
    {
     "name": "stdout",
     "output_type": "stream",
     "text": [
      "RNN model saved as models/5050_Xmodels/rnn_2020-05-06-1202.data\n",
      "\n",
      "-----------\n",
      "simulation 28/100\n"
     ]
    },
    {
     "name": "stderr",
     "output_type": "stream",
     "text": [
      "Epoch 39/40. Train loss: 0.831939: 100%|██████████| 40/40 [03:15<00:00,  4.89s/it]     \n"
     ]
    },
    {
     "name": "stdout",
     "output_type": "stream",
     "text": [
      "Training finished. Results savedin RNN Class\n"
     ]
    },
    {
     "name": "stderr",
     "output_type": "stream",
     "text": [
      "Initialising training; start at epoch 0:   0%|          | 0/40 [00:00<?, ?it/s]"
     ]
    },
    {
     "name": "stdout",
     "output_type": "stream",
     "text": [
      "RNN model saved as models/5050_Xmodels/rnn_2020-05-06-1206.data\n",
      "\n",
      "-----------\n",
      "simulation 29/100\n"
     ]
    },
    {
     "name": "stderr",
     "output_type": "stream",
     "text": [
      "Epoch 39/40. Train loss: 0.818818: 100%|██████████| 40/40 [03:24<00:00,  5.12s/it]     \n"
     ]
    },
    {
     "name": "stdout",
     "output_type": "stream",
     "text": [
      "Training finished. Results savedin RNN Class\n"
     ]
    },
    {
     "name": "stderr",
     "output_type": "stream",
     "text": [
      "Initialising training; start at epoch 0:   0%|          | 0/40 [00:00<?, ?it/s]"
     ]
    },
    {
     "name": "stdout",
     "output_type": "stream",
     "text": [
      "RNN model saved as models/5050_Xmodels/rnn_2020-05-06-1209.data\n",
      "\n",
      "-----------\n",
      "simulation 30/100\n"
     ]
    },
    {
     "name": "stderr",
     "output_type": "stream",
     "text": [
      "Epoch 39/40. Train loss: 0.831019: 100%|██████████| 40/40 [03:22<00:00,  5.05s/it]     \n"
     ]
    },
    {
     "name": "stdout",
     "output_type": "stream",
     "text": [
      "Training finished. Results savedin RNN Class\n"
     ]
    },
    {
     "name": "stderr",
     "output_type": "stream",
     "text": [
      "Initialising training; start at epoch 0:   0%|          | 0/40 [00:00<?, ?it/s]"
     ]
    },
    {
     "name": "stdout",
     "output_type": "stream",
     "text": [
      "RNN model saved as models/5050_Xmodels/rnn_2020-05-06-1212.data\n",
      "\n",
      "-----------\n",
      "simulation 31/100\n"
     ]
    },
    {
     "name": "stderr",
     "output_type": "stream",
     "text": [
      "Epoch 39/40. Train loss: 0.821809: 100%|██████████| 40/40 [03:09<00:00,  4.73s/it]     \n"
     ]
    },
    {
     "name": "stdout",
     "output_type": "stream",
     "text": [
      "Training finished. Results savedin RNN Class\n"
     ]
    },
    {
     "name": "stderr",
     "output_type": "stream",
     "text": [
      "Initialising training; start at epoch 0:   0%|          | 0/40 [00:00<?, ?it/s]"
     ]
    },
    {
     "name": "stdout",
     "output_type": "stream",
     "text": [
      "RNN model saved as models/5050_Xmodels/rnn_2020-05-06-1216.data\n",
      "\n",
      "-----------\n",
      "simulation 32/100\n"
     ]
    },
    {
     "name": "stderr",
     "output_type": "stream",
     "text": [
      "Epoch 39/40. Train loss: 0.820979: 100%|██████████| 40/40 [03:13<00:00,  4.85s/it]     \n"
     ]
    },
    {
     "name": "stdout",
     "output_type": "stream",
     "text": [
      "Training finished. Results savedin RNN Class\n"
     ]
    },
    {
     "name": "stderr",
     "output_type": "stream",
     "text": [
      "Initialising training; start at epoch 0:   0%|          | 0/40 [00:00<?, ?it/s]"
     ]
    },
    {
     "name": "stdout",
     "output_type": "stream",
     "text": [
      "RNN model saved as models/5050_Xmodels/rnn_2020-05-06-1219.data\n",
      "\n",
      "-----------\n",
      "simulation 33/100\n"
     ]
    },
    {
     "name": "stderr",
     "output_type": "stream",
     "text": [
      "Epoch 39/40. Train loss: 0.818311: 100%|██████████| 40/40 [03:11<00:00,  4.79s/it]     \n"
     ]
    },
    {
     "name": "stdout",
     "output_type": "stream",
     "text": [
      "Training finished. Results savedin RNN Class\n"
     ]
    },
    {
     "name": "stderr",
     "output_type": "stream",
     "text": [
      "Initialising training; start at epoch 0:   0%|          | 0/40 [00:00<?, ?it/s]"
     ]
    },
    {
     "name": "stdout",
     "output_type": "stream",
     "text": [
      "RNN model saved as models/5050_Xmodels/rnn_2020-05-06-1222.data\n",
      "\n",
      "-----------\n",
      "simulation 34/100\n"
     ]
    },
    {
     "name": "stderr",
     "output_type": "stream",
     "text": [
      "Epoch 39/40. Train loss: 0.821907: 100%|██████████| 40/40 [03:08<00:00,  4.72s/it]     \n"
     ]
    },
    {
     "name": "stdout",
     "output_type": "stream",
     "text": [
      "Training finished. Results savedin RNN Class\n"
     ]
    },
    {
     "name": "stderr",
     "output_type": "stream",
     "text": [
      "Initialising training; start at epoch 0:   0%|          | 0/40 [00:00<?, ?it/s]"
     ]
    },
    {
     "name": "stdout",
     "output_type": "stream",
     "text": [
      "RNN model saved as models/5050_Xmodels/rnn_2020-05-06-1225.data\n",
      "\n",
      "-----------\n",
      "simulation 35/100\n"
     ]
    },
    {
     "name": "stderr",
     "output_type": "stream",
     "text": [
      "Epoch 39/40. Train loss: 0.817119: 100%|██████████| 40/40 [03:13<00:00,  4.84s/it]     \n"
     ]
    },
    {
     "name": "stdout",
     "output_type": "stream",
     "text": [
      "Training finished. Results savedin RNN Class\n"
     ]
    },
    {
     "name": "stderr",
     "output_type": "stream",
     "text": [
      "Initialising training; start at epoch 0:   0%|          | 0/40 [00:00<?, ?it/s]"
     ]
    },
    {
     "name": "stdout",
     "output_type": "stream",
     "text": [
      "RNN model saved as models/5050_Xmodels/rnn_2020-05-06-1228.data\n",
      "\n",
      "-----------\n",
      "simulation 36/100\n"
     ]
    },
    {
     "name": "stderr",
     "output_type": "stream",
     "text": [
      "Epoch 39/40. Train loss: 0.819952: 100%|██████████| 40/40 [03:11<00:00,  4.78s/it]     \n"
     ]
    },
    {
     "name": "stdout",
     "output_type": "stream",
     "text": [
      "Training finished. Results savedin RNN Class\n"
     ]
    },
    {
     "name": "stderr",
     "output_type": "stream",
     "text": [
      "Initialising training; start at epoch 0:   0%|          | 0/40 [00:00<?, ?it/s]"
     ]
    },
    {
     "name": "stdout",
     "output_type": "stream",
     "text": [
      "RNN model saved as models/5050_Xmodels/rnn_2020-05-06-1232.data\n",
      "\n",
      "-----------\n",
      "simulation 37/100\n"
     ]
    },
    {
     "name": "stderr",
     "output_type": "stream",
     "text": [
      "Epoch 39/40. Train loss: 0.820681: 100%|██████████| 40/40 [03:14<00:00,  4.85s/it]     \n"
     ]
    },
    {
     "name": "stdout",
     "output_type": "stream",
     "text": [
      "Training finished. Results savedin RNN Class\n"
     ]
    },
    {
     "name": "stderr",
     "output_type": "stream",
     "text": [
      "Initialising training; start at epoch 0:   0%|          | 0/40 [00:00<?, ?it/s]"
     ]
    },
    {
     "name": "stdout",
     "output_type": "stream",
     "text": [
      "RNN model saved as models/5050_Xmodels/rnn_2020-05-06-1235.data\n",
      "\n",
      "-----------\n",
      "simulation 38/100\n"
     ]
    },
    {
     "name": "stderr",
     "output_type": "stream",
     "text": [
      "Epoch 39/40. Train loss: 0.809292: 100%|██████████| 40/40 [03:16<00:00,  4.91s/it]     \n"
     ]
    },
    {
     "name": "stdout",
     "output_type": "stream",
     "text": [
      "Training finished. Results savedin RNN Class\n"
     ]
    },
    {
     "name": "stderr",
     "output_type": "stream",
     "text": [
      "Initialising training; start at epoch 0:   0%|          | 0/40 [00:00<?, ?it/s]"
     ]
    },
    {
     "name": "stdout",
     "output_type": "stream",
     "text": [
      "RNN model saved as models/5050_Xmodels/rnn_2020-05-06-1238.data\n",
      "\n",
      "-----------\n",
      "simulation 39/100\n"
     ]
    },
    {
     "name": "stderr",
     "output_type": "stream",
     "text": [
      "Epoch 39/40. Train loss: 0.816618: 100%|██████████| 40/40 [03:13<00:00,  4.83s/it]     \n"
     ]
    },
    {
     "name": "stdout",
     "output_type": "stream",
     "text": [
      "Training finished. Results savedin RNN Class\n"
     ]
    },
    {
     "name": "stderr",
     "output_type": "stream",
     "text": [
      "Initialising training; start at epoch 0:   0%|          | 0/40 [00:00<?, ?it/s]"
     ]
    },
    {
     "name": "stdout",
     "output_type": "stream",
     "text": [
      "RNN model saved as models/5050_Xmodels/rnn_2020-05-06-1241.data\n",
      "\n",
      "-----------\n",
      "simulation 40/100\n"
     ]
    },
    {
     "name": "stderr",
     "output_type": "stream",
     "text": [
      "Epoch 39/40. Train loss: 0.81972: 100%|██████████| 40/40 [03:15<00:00,  4.89s/it]      \n"
     ]
    },
    {
     "name": "stdout",
     "output_type": "stream",
     "text": [
      "Training finished. Results savedin RNN Class\n"
     ]
    },
    {
     "name": "stderr",
     "output_type": "stream",
     "text": [
      "Initialising training; start at epoch 0:   0%|          | 0/40 [00:00<?, ?it/s]"
     ]
    },
    {
     "name": "stdout",
     "output_type": "stream",
     "text": [
      "RNN model saved as models/5050_Xmodels/rnn_2020-05-06-1245.data\n",
      "\n",
      "-----------\n",
      "simulation 41/100\n"
     ]
    },
    {
     "name": "stderr",
     "output_type": "stream",
     "text": [
      "Epoch 39/40. Train loss: 0.819504: 100%|██████████| 40/40 [03:11<00:00,  4.79s/it]     \n"
     ]
    },
    {
     "name": "stdout",
     "output_type": "stream",
     "text": [
      "Training finished. Results savedin RNN Class\n"
     ]
    },
    {
     "name": "stderr",
     "output_type": "stream",
     "text": [
      "Initialising training; start at epoch 0:   0%|          | 0/40 [00:00<?, ?it/s]"
     ]
    },
    {
     "name": "stdout",
     "output_type": "stream",
     "text": [
      "RNN model saved as models/5050_Xmodels/rnn_2020-05-06-1248.data\n",
      "\n",
      "-----------\n",
      "simulation 42/100\n"
     ]
    },
    {
     "name": "stderr",
     "output_type": "stream",
     "text": [
      "Epoch 39/40. Train loss: 0.810165: 100%|██████████| 40/40 [03:06<00:00,  4.67s/it]     \n"
     ]
    },
    {
     "name": "stdout",
     "output_type": "stream",
     "text": [
      "Training finished. Results savedin RNN Class\n"
     ]
    },
    {
     "name": "stderr",
     "output_type": "stream",
     "text": [
      "Initialising training; start at epoch 0:   0%|          | 0/40 [00:00<?, ?it/s]"
     ]
    },
    {
     "name": "stdout",
     "output_type": "stream",
     "text": [
      "RNN model saved as models/5050_Xmodels/rnn_2020-05-06-1251.data\n",
      "\n",
      "-----------\n",
      "simulation 43/100\n"
     ]
    },
    {
     "name": "stderr",
     "output_type": "stream",
     "text": [
      "Epoch 39/40. Train loss: 0.823805: 100%|██████████| 40/40 [03:13<00:00,  4.83s/it]     \n"
     ]
    },
    {
     "name": "stdout",
     "output_type": "stream",
     "text": [
      "Training finished. Results savedin RNN Class\n"
     ]
    },
    {
     "name": "stderr",
     "output_type": "stream",
     "text": [
      "Initialising training; start at epoch 0:   0%|          | 0/40 [00:00<?, ?it/s]"
     ]
    },
    {
     "name": "stdout",
     "output_type": "stream",
     "text": [
      "RNN model saved as models/5050_Xmodels/rnn_2020-05-06-1254.data\n",
      "\n",
      "-----------\n",
      "simulation 44/100\n"
     ]
    },
    {
     "name": "stderr",
     "output_type": "stream",
     "text": [
      "Epoch 39/40. Train loss: 0.823642: 100%|██████████| 40/40 [03:12<00:00,  4.81s/it]     \n"
     ]
    },
    {
     "name": "stdout",
     "output_type": "stream",
     "text": [
      "Training finished. Results savedin RNN Class\n"
     ]
    },
    {
     "name": "stderr",
     "output_type": "stream",
     "text": [
      "Initialising training; start at epoch 0:   0%|          | 0/40 [00:00<?, ?it/s]"
     ]
    },
    {
     "name": "stdout",
     "output_type": "stream",
     "text": [
      "RNN model saved as models/5050_Xmodels/rnn_2020-05-06-1258.data\n",
      "\n",
      "-----------\n",
      "simulation 45/100\n"
     ]
    },
    {
     "name": "stderr",
     "output_type": "stream",
     "text": [
      "Epoch 39/40. Train loss: 0.814991: 100%|██████████| 40/40 [03:06<00:00,  4.66s/it]     \n"
     ]
    },
    {
     "name": "stdout",
     "output_type": "stream",
     "text": [
      "Training finished. Results savedin RNN Class\n"
     ]
    },
    {
     "name": "stderr",
     "output_type": "stream",
     "text": [
      "Initialising training; start at epoch 0:   0%|          | 0/40 [00:00<?, ?it/s]"
     ]
    },
    {
     "name": "stdout",
     "output_type": "stream",
     "text": [
      "RNN model saved as models/5050_Xmodels/rnn_2020-05-06-1301.data\n",
      "\n",
      "-----------\n",
      "simulation 46/100\n"
     ]
    },
    {
     "name": "stderr",
     "output_type": "stream",
     "text": [
      "Epoch 39/40. Train loss: 0.832657: 100%|██████████| 40/40 [03:13<00:00,  4.84s/it]     \n"
     ]
    },
    {
     "name": "stdout",
     "output_type": "stream",
     "text": [
      "Training finished. Results savedin RNN Class\n"
     ]
    },
    {
     "name": "stderr",
     "output_type": "stream",
     "text": [
      "Initialising training; start at epoch 0:   0%|          | 0/40 [00:00<?, ?it/s]"
     ]
    },
    {
     "name": "stdout",
     "output_type": "stream",
     "text": [
      "RNN model saved as models/5050_Xmodels/rnn_2020-05-06-1304.data\n",
      "\n",
      "-----------\n",
      "simulation 47/100\n"
     ]
    },
    {
     "name": "stderr",
     "output_type": "stream",
     "text": [
      "Epoch 39/40. Train loss: 0.809316: 100%|██████████| 40/40 [03:11<00:00,  4.78s/it]     \n"
     ]
    },
    {
     "name": "stdout",
     "output_type": "stream",
     "text": [
      "Training finished. Results savedin RNN Class\n"
     ]
    },
    {
     "name": "stderr",
     "output_type": "stream",
     "text": [
      "Initialising training; start at epoch 0:   0%|          | 0/40 [00:00<?, ?it/s]"
     ]
    },
    {
     "name": "stdout",
     "output_type": "stream",
     "text": [
      "RNN model saved as models/5050_Xmodels/rnn_2020-05-06-1307.data\n",
      "\n",
      "-----------\n",
      "simulation 48/100\n"
     ]
    },
    {
     "name": "stderr",
     "output_type": "stream",
     "text": [
      "Epoch 39/40. Train loss: 0.845772: 100%|██████████| 40/40 [03:07<00:00,  4.69s/it]     \n"
     ]
    },
    {
     "name": "stdout",
     "output_type": "stream",
     "text": [
      "Training finished. Results savedin RNN Class\n"
     ]
    },
    {
     "name": "stderr",
     "output_type": "stream",
     "text": [
      "Initialising training; start at epoch 0:   0%|          | 0/40 [00:00<?, ?it/s]"
     ]
    },
    {
     "name": "stdout",
     "output_type": "stream",
     "text": [
      "RNN model saved as models/5050_Xmodels/rnn_2020-05-06-1310.data\n",
      "\n",
      "-----------\n",
      "simulation 49/100\n"
     ]
    },
    {
     "name": "stderr",
     "output_type": "stream",
     "text": [
      "Epoch 39/40. Train loss: 0.811472: 100%|██████████| 40/40 [03:12<00:00,  4.81s/it]     \n"
     ]
    },
    {
     "name": "stdout",
     "output_type": "stream",
     "text": [
      "Training finished. Results savedin RNN Class\n"
     ]
    },
    {
     "name": "stderr",
     "output_type": "stream",
     "text": [
      "Initialising training; start at epoch 0:   0%|          | 0/40 [00:00<?, ?it/s]"
     ]
    },
    {
     "name": "stdout",
     "output_type": "stream",
     "text": [
      "RNN model saved as models/5050_Xmodels/rnn_2020-05-06-1314.data\n",
      "\n",
      "-----------\n",
      "simulation 50/100\n"
     ]
    },
    {
     "name": "stderr",
     "output_type": "stream",
     "text": [
      "Epoch 39/40. Train loss: 0.816717: 100%|██████████| 40/40 [03:07<00:00,  4.69s/it]     \n"
     ]
    },
    {
     "name": "stdout",
     "output_type": "stream",
     "text": [
      "Training finished. Results savedin RNN Class\n"
     ]
    },
    {
     "name": "stderr",
     "output_type": "stream",
     "text": [
      "Initialising training; start at epoch 0:   0%|          | 0/40 [00:00<?, ?it/s]"
     ]
    },
    {
     "name": "stdout",
     "output_type": "stream",
     "text": [
      "RNN model saved as models/5050_Xmodels/rnn_2020-05-06-1317.data\n",
      "\n",
      "-----------\n",
      "simulation 51/100\n"
     ]
    },
    {
     "name": "stderr",
     "output_type": "stream",
     "text": [
      "Epoch 39/40. Train loss: 0.824244: 100%|██████████| 40/40 [03:12<00:00,  4.81s/it]     \n"
     ]
    },
    {
     "name": "stdout",
     "output_type": "stream",
     "text": [
      "Training finished. Results savedin RNN Class\n"
     ]
    },
    {
     "name": "stderr",
     "output_type": "stream",
     "text": [
      "Initialising training; start at epoch 0:   0%|          | 0/40 [00:00<?, ?it/s]"
     ]
    },
    {
     "name": "stdout",
     "output_type": "stream",
     "text": [
      "RNN model saved as models/5050_Xmodels/rnn_2020-05-06-1320.data\n",
      "\n",
      "-----------\n",
      "simulation 52/100\n"
     ]
    },
    {
     "name": "stderr",
     "output_type": "stream",
     "text": [
      "Epoch 39/40. Train loss: 0.809841: 100%|██████████| 40/40 [03:12<00:00,  4.82s/it]     \n"
     ]
    },
    {
     "name": "stdout",
     "output_type": "stream",
     "text": [
      "Training finished. Results savedin RNN Class\n"
     ]
    },
    {
     "name": "stderr",
     "output_type": "stream",
     "text": [
      "Initialising training; start at epoch 0:   0%|          | 0/40 [00:00<?, ?it/s]"
     ]
    },
    {
     "name": "stdout",
     "output_type": "stream",
     "text": [
      "RNN model saved as models/5050_Xmodels/rnn_2020-05-06-1323.data\n",
      "\n",
      "-----------\n",
      "simulation 53/100\n"
     ]
    },
    {
     "name": "stderr",
     "output_type": "stream",
     "text": [
      "Epoch 39/40. Train loss: 0.824542: 100%|██████████| 40/40 [03:07<00:00,  4.70s/it]     \n"
     ]
    },
    {
     "name": "stdout",
     "output_type": "stream",
     "text": [
      "Training finished. Results savedin RNN Class\n"
     ]
    },
    {
     "name": "stderr",
     "output_type": "stream",
     "text": [
      "Initialising training; start at epoch 0:   0%|          | 0/40 [00:00<?, ?it/s]"
     ]
    },
    {
     "name": "stdout",
     "output_type": "stream",
     "text": [
      "RNN model saved as models/5050_Xmodels/rnn_2020-05-06-1326.data\n",
      "\n",
      "-----------\n",
      "simulation 54/100\n"
     ]
    },
    {
     "name": "stderr",
     "output_type": "stream",
     "text": [
      "Epoch 39/40. Train loss: 0.812738: 100%|██████████| 40/40 [03:19<00:00,  4.98s/it]     \n"
     ]
    },
    {
     "name": "stdout",
     "output_type": "stream",
     "text": [
      "Training finished. Results savedin RNN Class\n"
     ]
    },
    {
     "name": "stderr",
     "output_type": "stream",
     "text": [
      "Initialising training; start at epoch 0:   0%|          | 0/40 [00:00<?, ?it/s]"
     ]
    },
    {
     "name": "stdout",
     "output_type": "stream",
     "text": [
      "RNN model saved as models/5050_Xmodels/rnn_2020-05-06-1330.data\n",
      "\n",
      "-----------\n",
      "simulation 55/100\n"
     ]
    },
    {
     "name": "stderr",
     "output_type": "stream",
     "text": [
      "Epoch 39/40. Train loss: 0.817746: 100%|██████████| 40/40 [03:19<00:00,  4.99s/it]     \n"
     ]
    },
    {
     "name": "stdout",
     "output_type": "stream",
     "text": [
      "Training finished. Results savedin RNN Class\n"
     ]
    },
    {
     "name": "stderr",
     "output_type": "stream",
     "text": [
      "Initialising training; start at epoch 0:   0%|          | 0/40 [00:00<?, ?it/s]"
     ]
    },
    {
     "name": "stdout",
     "output_type": "stream",
     "text": [
      "RNN model saved as models/5050_Xmodels/rnn_2020-05-06-1333.data\n",
      "\n",
      "-----------\n",
      "simulation 56/100\n"
     ]
    },
    {
     "name": "stderr",
     "output_type": "stream",
     "text": [
      "Epoch 39/40. Train loss: 0.823725: 100%|██████████| 40/40 [03:09<00:00,  4.74s/it]     \n"
     ]
    },
    {
     "name": "stdout",
     "output_type": "stream",
     "text": [
      "Training finished. Results savedin RNN Class\n"
     ]
    },
    {
     "name": "stderr",
     "output_type": "stream",
     "text": [
      "Initialising training; start at epoch 0:   0%|          | 0/40 [00:00<?, ?it/s]"
     ]
    },
    {
     "name": "stdout",
     "output_type": "stream",
     "text": [
      "RNN model saved as models/5050_Xmodels/rnn_2020-05-06-1336.data\n",
      "\n",
      "-----------\n",
      "simulation 57/100\n"
     ]
    },
    {
     "name": "stderr",
     "output_type": "stream",
     "text": [
      "Epoch 39/40. Train loss: 0.819678: 100%|██████████| 40/40 [03:21<00:00,  5.04s/it]     \n"
     ]
    },
    {
     "name": "stdout",
     "output_type": "stream",
     "text": [
      "Training finished. Results savedin RNN Class\n"
     ]
    },
    {
     "name": "stderr",
     "output_type": "stream",
     "text": [
      "Initialising training; start at epoch 0:   0%|          | 0/40 [00:00<?, ?it/s]"
     ]
    },
    {
     "name": "stdout",
     "output_type": "stream",
     "text": [
      "RNN model saved as models/5050_Xmodels/rnn_2020-05-06-1340.data\n",
      "\n",
      "-----------\n",
      "simulation 58/100\n"
     ]
    },
    {
     "name": "stderr",
     "output_type": "stream",
     "text": [
      "Epoch 39/40. Train loss: 0.816296: 100%|██████████| 40/40 [03:44<00:00,  5.62s/it]     \n"
     ]
    },
    {
     "name": "stdout",
     "output_type": "stream",
     "text": [
      "Training finished. Results savedin RNN Class\n"
     ]
    },
    {
     "name": "stderr",
     "output_type": "stream",
     "text": [
      "Initialising training; start at epoch 0:   0%|          | 0/40 [00:00<?, ?it/s]"
     ]
    },
    {
     "name": "stdout",
     "output_type": "stream",
     "text": [
      "RNN model saved as models/5050_Xmodels/rnn_2020-05-06-1343.data\n",
      "\n",
      "-----------\n",
      "simulation 59/100\n"
     ]
    },
    {
     "name": "stderr",
     "output_type": "stream",
     "text": [
      "Epoch 39/40. Train loss: 0.815061: 100%|██████████| 40/40 [03:36<00:00,  5.40s/it]     \n"
     ]
    },
    {
     "name": "stdout",
     "output_type": "stream",
     "text": [
      "Training finished. Results savedin RNN Class\n"
     ]
    },
    {
     "name": "stderr",
     "output_type": "stream",
     "text": [
      "Initialising training; start at epoch 0:   0%|          | 0/40 [00:00<?, ?it/s]"
     ]
    },
    {
     "name": "stdout",
     "output_type": "stream",
     "text": [
      "RNN model saved as models/5050_Xmodels/rnn_2020-05-06-1347.data\n",
      "\n",
      "-----------\n",
      "simulation 60/100\n"
     ]
    },
    {
     "name": "stderr",
     "output_type": "stream",
     "text": [
      "Epoch 39/40. Train loss: 0.813659: 100%|██████████| 40/40 [03:19<00:00,  4.98s/it]     \n"
     ]
    },
    {
     "name": "stdout",
     "output_type": "stream",
     "text": [
      "Training finished. Results savedin RNN Class\n"
     ]
    },
    {
     "name": "stderr",
     "output_type": "stream",
     "text": [
      "Initialising training; start at epoch 0:   0%|          | 0/40 [00:00<?, ?it/s]"
     ]
    },
    {
     "name": "stdout",
     "output_type": "stream",
     "text": [
      "RNN model saved as models/5050_Xmodels/rnn_2020-05-06-1350.data\n",
      "\n",
      "-----------\n",
      "simulation 61/100\n"
     ]
    },
    {
     "name": "stderr",
     "output_type": "stream",
     "text": [
      "Epoch 39/40. Train loss: 0.822973: 100%|██████████| 40/40 [03:07<00:00,  4.70s/it]     \n"
     ]
    },
    {
     "name": "stdout",
     "output_type": "stream",
     "text": [
      "Training finished. Results savedin RNN Class\n"
     ]
    },
    {
     "name": "stderr",
     "output_type": "stream",
     "text": [
      "Initialising training; start at epoch 0:   0%|          | 0/40 [00:00<?, ?it/s]"
     ]
    },
    {
     "name": "stdout",
     "output_type": "stream",
     "text": [
      "RNN model saved as models/5050_Xmodels/rnn_2020-05-06-1354.data\n",
      "\n",
      "-----------\n",
      "simulation 62/100\n"
     ]
    },
    {
     "name": "stderr",
     "output_type": "stream",
     "text": [
      "Epoch 39/40. Train loss: 0.823669: 100%|██████████| 40/40 [03:19<00:00,  5.00s/it]     \n"
     ]
    },
    {
     "name": "stdout",
     "output_type": "stream",
     "text": [
      "Training finished. Results savedin RNN Class\n"
     ]
    },
    {
     "name": "stderr",
     "output_type": "stream",
     "text": [
      "Initialising training; start at epoch 0:   0%|          | 0/40 [00:00<?, ?it/s]"
     ]
    },
    {
     "name": "stdout",
     "output_type": "stream",
     "text": [
      "RNN model saved as models/5050_Xmodels/rnn_2020-05-06-1357.data\n",
      "\n",
      "-----------\n",
      "simulation 63/100\n"
     ]
    },
    {
     "name": "stderr",
     "output_type": "stream",
     "text": [
      "Epoch 39/40. Train loss: 0.809258: 100%|██████████| 40/40 [03:44<00:00,  5.62s/it]     \n"
     ]
    },
    {
     "name": "stdout",
     "output_type": "stream",
     "text": [
      "Training finished. Results savedin RNN Class\n"
     ]
    },
    {
     "name": "stderr",
     "output_type": "stream",
     "text": [
      "Initialising training; start at epoch 0:   0%|          | 0/40 [00:00<?, ?it/s]"
     ]
    },
    {
     "name": "stdout",
     "output_type": "stream",
     "text": [
      "RNN model saved as models/5050_Xmodels/rnn_2020-05-06-1401.data\n",
      "\n",
      "-----------\n",
      "simulation 64/100\n"
     ]
    },
    {
     "name": "stderr",
     "output_type": "stream",
     "text": [
      "Epoch 39/40. Train loss: 0.818896: 100%|██████████| 40/40 [03:33<00:00,  5.34s/it]     \n"
     ]
    },
    {
     "name": "stdout",
     "output_type": "stream",
     "text": [
      "Training finished. Results savedin RNN Class\n"
     ]
    },
    {
     "name": "stderr",
     "output_type": "stream",
     "text": [
      "Initialising training; start at epoch 0:   0%|          | 0/40 [00:00<?, ?it/s]"
     ]
    },
    {
     "name": "stdout",
     "output_type": "stream",
     "text": [
      "RNN model saved as models/5050_Xmodels/rnn_2020-05-06-1404.data\n",
      "\n",
      "-----------\n",
      "simulation 65/100\n"
     ]
    },
    {
     "name": "stderr",
     "output_type": "stream",
     "text": [
      "Epoch 25/40. Train loss: 0.82299:  62%|██████▎   | 25/40 [02:18<01:23,  5.56s/it]      \n"
     ]
    },
    {
     "name": "stdout",
     "output_type": "stream",
     "text": [
      "Training ended prematurely by user at epoch 25.\n",
      "Results saved in RNN Class.\n"
     ]
    },
    {
     "name": "stderr",
     "output_type": "stream",
     "text": [
      "Initialising training; start at epoch 0:   0%|          | 0/40 [00:00<?, ?it/s]"
     ]
    },
    {
     "name": "stdout",
     "output_type": "stream",
     "text": [
      "RNN model saved as models/5050_Xmodels/rnn_2020-05-06-1407.data\n",
      "\n",
      "-----------\n",
      "simulation 66/100\n"
     ]
    },
    {
     "name": "stderr",
     "output_type": "stream",
     "text": [
      "Initialising training; start at epoch 0:   0%|          | 0/40 [00:00<?, ?it/s]\n"
     ]
    },
    {
     "name": "stdout",
     "output_type": "stream",
     "text": [
      "Training ended prematurely by user at epoch 0.\n",
      "Results saved in RNN Class.\n"
     ]
    },
    {
     "name": "stderr",
     "output_type": "stream",
     "text": [
      "Initialising training; start at epoch 0:   0%|          | 0/40 [00:00<?, ?it/s]"
     ]
    },
    {
     "name": "stdout",
     "output_type": "stream",
     "text": [
      "RNN model saved as models/5050_Xmodels/rnn_2020-05-06-1407.data\n",
      "\n",
      "-----------\n",
      "simulation 67/100\n"
     ]
    },
    {
     "name": "stderr",
     "output_type": "stream",
     "text": [
      "Initialising training; start at epoch 0:   0%|          | 0/40 [00:04<?, ?it/s]\n"
     ]
    },
    {
     "name": "stdout",
     "output_type": "stream",
     "text": [
      "Training ended prematurely by user at epoch 0.\n",
      "Results saved in RNN Class.\n"
     ]
    },
    {
     "name": "stderr",
     "output_type": "stream",
     "text": [
      "Initialising training; start at epoch 0:   0%|          | 0/40 [00:00<?, ?it/s]"
     ]
    },
    {
     "name": "stdout",
     "output_type": "stream",
     "text": [
      "RNN model saved as models/5050_Xmodels/rnn_2020-05-06-1407.data\n",
      "\n",
      "-----------\n",
      "simulation 68/100\n"
     ]
    },
    {
     "name": "stderr",
     "output_type": "stream",
     "text": [
      "Initialising training; start at epoch 0:   0%|          | 0/40 [00:03<?, ?it/s]\n"
     ]
    },
    {
     "name": "stdout",
     "output_type": "stream",
     "text": [
      "Training ended prematurely by user at epoch 0.\n",
      "Results saved in RNN Class.\n"
     ]
    },
    {
     "name": "stderr",
     "output_type": "stream",
     "text": [
      "Initialising training; start at epoch 0:   0%|          | 0/40 [00:00<?, ?it/s]"
     ]
    },
    {
     "name": "stdout",
     "output_type": "stream",
     "text": [
      "RNN model saved as models/5050_Xmodels/rnn_2020-05-06-1407.data\n",
      "\n",
      "-----------\n",
      "simulation 69/100\n"
     ]
    },
    {
     "name": "stderr",
     "output_type": "stream",
     "text": [
      "Epoch 6/40. Train loss: 0.964973:  15%|█▌        | 6/40 [00:29<02:47,  4.92s/it]       "
     ]
    }
   ],
   "source": [
    "## Train a lot of models for saving:\n",
    "_ = bp.init_train_save_rnn(t_dict=t_dict, d_dict=d_dict, \n",
    "                           n_simulations=100, save_folder='models/5050_Xmodels/')"
   ]
  },
  {
   "cell_type": "code",
   "execution_count": 12,
   "metadata": {},
   "outputs": [],
   "source": [
    "agg_conv, agg_score = {}, {}\n",
    "agg_conv[75] = bp.aggregate_convergence(model_folder='models/7525_100models/')\n",
    "agg_score[75] = bp.aggregate_score_mats(model_folder='models/7525_100models/')\n",
    "agg_conv[50] = bp.aggregate_convergence(model_folder='models/5050_66models/')\n",
    "agg_score[50] = bp.aggregate_score_mats(model_folder='models/5050_66models/')"
   ]
  },
  {
   "cell_type": "code",
   "execution_count": 113,
   "metadata": {},
   "outputs": [
    {
     "data": {
      "text/plain": [
       "<Figure size 720x576 with 0 Axes>"
      ]
     },
     "metadata": {},
     "output_type": "display_data"
    },
    {
     "data": {
      "image/png": "[encoded data removed]",
      "text/plain": [
       "<Figure size 720x576 with 6 Axes>"
      ]
     },
     "metadata": {
      "needs_background": "light"
     },
     "output_type": "display_data"
    }
   ],
   "source": [
    "plt.rcParams['figure.figsize'] = (10, 8)\n",
    "plt.subplots_adjust(hspace=0.6)\n",
    "fig, ax_agg = plt.subplots(2, 2)\n",
    "for i_ax, kk in enumerate(list(agg_conv.keys())):\n",
    "    model_selection = np.arange(agg_score[kk].shape[0])\n",
    "    model_selection = agg_score[kk][:, 11, 6] < 0.4\n",
    "#     plot_mat = np.mean(np.abs(agg_score[kk][model_selection, :, :] - 0.5) + 0.5, 0)\n",
    "    plot_mat = np.mean(agg_score[kk][model_selection, :, :], 0)\n",
    "    pr.plot_decoder_crosstemp_perf(score_matrix=plot_mat, \n",
    "                                   ax=ax_agg[i_ax][0], ticklabels=double_time_labels_blank[:-1])\n",
    "\n",
    "    ax_agg[i_ax][1].plot(agg_conv[kk]['test'][:100, :].T, alpha=0.2, c='grey')\n",
    "    ax_agg[i_ax][1].plot(np.mean(agg_conv[kk]['test'], 0), linewidth=3, c='k')\n",
    "    ax_agg[i_ax][1].set_ylim([0.6, 1]); \n",
    "    ax_agg[i_ax][1].set_ylabel('Loss test data \\n(Cross Entropy + L1 reg.)')\n",
    "    ax_agg[i_ax][1].set_xlabel('Epoch'); ax_agg[i_ax][1].set_title('Convergence of loss function on test data');\n",
    "    ax_agg[i_ax][1].text(s=f'Ratio Expected/Unexpected: {kk}/{100 - kk}. Average of {agg_score[kk].shape[0]} models',\n",
    "                         x=-46, y=1.07, fontdict={'weight': 'bold', 'fontsize': 13})\n",
    "fig.subplots_adjust(hspace=0.5, wspace=0.3)\n",
    "# plt.savefig('results/average_results_absolute.pdf', bbox_inches='tight')"
   ]
  },
  {
   "cell_type": "code",
   "execution_count": 85,
   "metadata": {},
   "outputs": [
    {
     "name": "stdout",
     "output_type": "stream",
     "text": [
      "0 \n",
      "1 \n",
      "2 A\n",
      "3 A\n",
      "4 \n",
      "5 \n",
      "6 B\n",
      "7 B\n",
      "8 \n",
      "9 \n",
      "10 C\n",
      "11 C\n",
      "12 \n",
      "13 \n",
      "14 D\n",
      "15 D\n",
      "16 \n"
     ]
    }
   ],
   "source": [
    "for ii, ll in enumerate(double_time_labels_blank[:-1]):\n",
    "    print(ii, ll)"
   ]
  },
  {
   "cell_type": "code",
   "execution_count": 128,
   "metadata": {},
   "outputs": [
    {
     "data": {
      "image/png": "[encoded data removed]",
      "text/plain": [
       "<Figure size 504x288 with 1 Axes>"
      ]
     },
     "metadata": {
      "needs_background": "light"
     },
     "output_type": "display_data"
    }
   ],
   "source": [
    "plt.rcParams['figure.figsize'] = (7, 4)\n",
    "plt.hist(agg_score[75][:, 11, 7], bins=np.linspace(0, 1, 21));\n",
    "plt.xlabel('decoding score'); plt.ylabel('frequency'); \n",
    "# plt.title(f'Train time tau={}')"
   ]
  }
 ],
 "metadata": {
  "kernelspec": {
   "display_name": "Python 3",
   "language": "python",
   "name": "python3"
  },
  "language_info": {
   "codemirror_mode": {
    "name": "ipython",
    "version": 3
   },
   "file_extension": ".py",
   "mimetype": "text/x-python",
   "name": "python",
   "nbconvert_exporter": "python",
   "pygments_lexer": "ipython3",
   "version": "3.7.0"
  }
 },
 "nbformat": 4,
 "nbformat_minor": 2
}
