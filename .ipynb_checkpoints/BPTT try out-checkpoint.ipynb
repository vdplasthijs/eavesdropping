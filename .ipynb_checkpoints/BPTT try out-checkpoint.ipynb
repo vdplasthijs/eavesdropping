{
 "cells": [
  {
   "cell_type": "code",
   "execution_count": 46,
   "metadata": {},
   "outputs": [
    {
     "name": "stdout",
     "output_type": "stream",
     "text": [
      "The autoreload extension is already loaded. To reload it, use:\n",
      "  %reload_ext autoreload\n"
     ]
    }
   ],
   "source": [
    "import numpy as np\n",
    "import matplotlib.pyplot as plt\n",
    "import torch\n",
    "from torch import nn\n",
    "import torch.nn.functional as F\n",
    "from torch.utils.data import TensorDataset, DataLoader\n",
    "import BPTTRNN as bp\n",
    "import time\n",
    "import seaborn as sns\n",
    "# import sklearn.svm\n",
    "%load_ext autoreload\n",
    "%autoreload 2"
   ]
  },
  {
   "cell_type": "markdown",
   "metadata": {},
   "source": [
    "## Create synthetic data\n",
    "There are 8 possible values: \n",
    "- 0 $blank/0$\n",
    "- 1 $A_1$\n",
    "- 2 $A_2$\n",
    "- 3 $B_1$\n",
    "- 4 $B_2$\n",
    "- 5 $C_1$\n",
    "- 6 $C_2$\n",
    "- 7 $D$\n",
    "\n",
    "Data points are thus 8-dim vectors, with:\n",
    "\n",
    "$z_{k, t} = (1_{0}, 1_{A_1}, 1_{A_2}, ... , 1_{D})$\n",
    "\n",
    "where $k$ is the trial index, and $t$ is the trial time. Hence $|z_{k, t}| = 1 $ before white noise is added. Trials will be $T=9$ data points long, and of form:\n",
    "\n",
    "$ 0, A_{\\alpha}, 0, B_{\\alpha}, 0, C_{\\beta}, 0, D, 0 $\n",
    "\n",
    "where $\\alpha, \\beta \\in (1, 2)$, although one can use shorter sequences for testing (e.g. $0, A_{\\alpha}, 0, B_{\\alpha}, 0$). The expected sequence is $\\alpha = \\beta$, and the unexpected sequence is $\\alpha \\neq \\beta$.\n",
    "\n",
    "Network input $x_k = z_{k, 0:T-1}$ and output $y_k = z_{k, 1:T}$. "
   ]
  },
  {
   "cell_type": "code",
   "execution_count": 108,
   "metadata": {},
   "outputs": [
    {
     "data": {
      "text/plain": [
       "array([1, 2, 3, 4, 5, 6])"
      ]
     },
     "execution_count": 108,
     "metadata": {},
     "output_type": "execute_result"
    }
   ],
   "source": [
    "np.arange(1, 7)"
   ]
  },
  {
   "cell_type": "code",
   "execution_count": 110,
   "metadata": {},
   "outputs": [],
   "source": [
    "n_total = 1000  # total number of data sequences\n",
    "n_freq = 8  # blank through D\n",
    "n_times = 9\n",
    "# eval_times = np.arange(1, 8)  # single\n",
    "eval_times = np.arange(4, 17)  # single\n",
    "\n",
    "ratio_train = 0.8\n",
    "ratio_exp = 0.75  # probabilities of switching between alpha nd beta\n",
    "noise_scale = 0.02\n",
    "freq_labels = ['0', 'A1', 'A2', 'B1', 'B2', 'C1', 'C2', 'D']\n",
    "tmp0, tmp1 = bp.generate_synt_data(n_total=n_total, \n",
    "                                   n_times=n_times, n_freq=n_freq,\n",
    "                                   ratio_train=ratio_train, ratio_exp=ratio_exp, \n",
    "                                   noise_scale=noise_scale, double_length=True)\n",
    "x_train, y_train, x_test, y_test = tmp0\n",
    "labels_train, labels_test = tmp1"
   ]
  },
  {
   "cell_type": "code",
   "execution_count": 111,
   "metadata": {},
   "outputs": [
    {
     "data": {
      "text/plain": [
       "<matplotlib.image.AxesImage at 0x7fac90335b70>"
      ]
     },
     "execution_count": 111,
     "metadata": {},
     "output_type": "execute_result"
    },
    {
     "data": {
      "image/png": "[encoded data removed]",
      "text/plain": [
       "<Figure size 864x288 with 1 Axes>"
      ]
     },
     "metadata": {
      "needs_background": "light"
     },
     "output_type": "display_data"
    }
   ],
   "source": [
    "plt.imshow(y_test[0, :, :])"
   ]
  },
  {
   "cell_type": "markdown",
   "metadata": {},
   "source": [
    "## RNN Model with BPTT\n",
    "\n",
    "#### RNN model:\n",
    "\n",
    "$(x_t, s_{t-1}) \\to s_t \\to \\hat{y}_t == y_t = x_{t+1} $\n",
    "\n",
    "within one trial $k$. \n",
    "Equations:\n",
    "\n",
    "$s_t = \\tanh( U \\cdot x_t + W \\cdot s_{t-1})$\n",
    "\n",
    "\n",
    "$\\hat{y}_t = softmax(V \\cdot s_t) = \\left( \\frac{e^{V_i \\cdot s_t}}{\\sum_i e^{V_i \\cdot s_t}} \\right), \\; for \\; i \\in (0, A_1, A_2 ... D)$\n",
    "\n",
    "where $U_{n x f}, W_{n x n}, V_{f x n}$ are matrices where $n$ is the number of RNN nodes and $f$ the number of input/output frequencies.\n",
    "\n",
    "#### Training procedure:\n",
    "\n",
    "The full sequence $x_k$ is forwarded through the model, yielding $\\hat{y}_k$. This is used to compute the loss function $L$, which error is backpropagated through time (BPTT) to the parameters $\\theta = (U, W, V)$ (updated with SGD probably). \n",
    "The loss function $L$ uses cross entropy and L1 regularisation:\n",
    "\n",
    "$L_k = \\sum_{\\tau} - y_{k, \\tau} \\log \\hat{y}_{k, \\tau} + \\lambda \\cdot ||\\theta||_1$\n",
    "\n",
    "where $\\tau$ defines the trial times that are taken into account for Loss computation. \n",
    "\n",
    "$ \\begin{equation}\n",
    "    \\tau =\n",
    "    \\begin{cases}\n",
    "      (0, 1, 2, ... 8), & \\text{all} \\\\\n",
    "      (1, 3, 5, 7), & \\text{non-blank (nb)}\\\\\n",
    "      (3, 5, 7), & \\text{non-initial nb (ninb)}\n",
    "    \\end{cases}\n",
    "  \\end{equation}$\n",
    "\n",
    "#### Initial conditions:\n",
    "\n",
    "Tricky.. Maybe start on each trials with either zero, or small-magnitude noise, for $s_{k, -1}$? The sequence $0, A_{\\alpha}, 0$ then should provide a sensible initialisation, needed for $B_{\\alpha}$ prediction... ?  \n",
    "\n",
    "\n",
    "#### Pseudo-algorithm:\n",
    "\n",
    "    for $it$ in epochs:\n",
    "        for $k$ in trials:\n",
    "            for $t$ in times:\n",
    "                rnn.forward($x_t$)\n",
    "            compute loss $L_k$\n",
    "            update parameters with BPTT\n"
   ]
  },
  {
   "cell_type": "code",
   "execution_count": 120,
   "metadata": {},
   "outputs": [],
   "source": [
    "## Set training parameters:\n",
    "n_nodes = 20\n",
    "learning_rate = 0.1\n",
    "bs = 1\n",
    "n_epochs = 100\n",
    "check_conv = False\n",
    "conv_rel_tol = 1e-6\n",
    "l1_param = 1e-4\n",
    "\n",
    "## Create data loader objects:\n",
    "train_ds = TensorDataset(x_train, y_train)\n",
    "train_dl = DataLoader(train_ds, batch_size=bs)\n",
    "\n",
    "test_ds = TensorDataset(x_test, y_test)\n",
    "test_dl = DataLoader(test_ds, batch_size=bs)"
   ]
  },
  {
   "cell_type": "code",
   "execution_count": 121,
   "metadata": {},
   "outputs": [],
   "source": [
    "## Initiate RNN model\n",
    "rnn = bp.RNN(n_stim=n_freq, n_nodes=n_nodes)  # Create RNN class\n",
    "opt = torch.optim.SGD(rnn.parameters(), lr=learning_rate)  # call optimiser from pytorhc\n",
    "# prev_loss = 10  "
   ]
  },
  {
   "cell_type": "code",
   "execution_count": null,
   "metadata": {},
   "outputs": [
    {
     "name": "stdout",
     "output_type": "stream",
     "text": [
      "Initialising training\n",
      "Train performance:\n",
      "epoch 1,  loss: 94.9814682006836\n"
     ]
    }
   ],
   "source": [
    "## Training procedure\n",
    "print('Initialising training')\n",
    "print('Train performance:')\n",
    "\n",
    "train_loss_arr = np.zeros(n_epochs)  # save loss during training \n",
    "test_loss_arr = np.zeros(n_epochs)\n",
    "for epoch in range(n_epochs):  # repeating epochs\n",
    "    rnn.train()  # set to train model (i.e. allow gradient computation/tracking)\n",
    "    for xb, yb in train_dl:  # returns torch(n_bs x n_times x n_freq)\n",
    "        full_pred = bp.compute_full_pred(model=rnn, xdata=xb)  # predict time trace\n",
    "        loss = bp.tau_loss(y_est=full_pred, y_true=yb, model=rnn, \n",
    "                           reg_param=l1_param, tau_array=eval_times)  # compute loss\n",
    "        loss.backward()  # compute gradients\n",
    "        opt.step()  # update \n",
    "        opt.zero_grad()   # reset \n",
    "\n",
    "    rnn.eval()  # evaluation mode -> disable gradient tracking\n",
    "    with torch.no_grad():  # to be sure\n",
    "        ## Compute losses for saving:\n",
    "        full_pred = bp.compute_full_pred(model=rnn, xdata=x_train)\n",
    "        loss = bp.tau_loss(y_est=full_pred, y_true=y_train, model=rnn, \n",
    "                           reg_param=l1_param, tau_array=eval_times)\n",
    "        train_loss_arr[epoch] = float(loss.detach().numpy())\n",
    "        if epoch % 10 == 1:\n",
    "            print(f'epoch {epoch},  loss: {loss}')\n",
    "      \n",
    "        full_pred = bp.compute_full_pred(model=rnn, xdata=x_test)\n",
    "        loss = bp.tau_loss(y_est=full_pred, y_true=y_test, model=rnn, \n",
    "                           reg_param=l1_param, tau_array=eval_times)\n",
    "        test_loss_arr[epoch] = float(loss.detach().numpy())\n",
    "        \n",
    "#     if check_conv:\n",
    "#         new_loss = loss_function(pred, yb).detach().numpy()\n",
    "#         diff = np.abs(new_loss - prev_loss) / (new_loss + prev_loss)\n",
    "#         if diff < conv_rel_tol:\n",
    "#             print(f'Converged at epoch {epoch},  loss: {loss_function(pred, yb)}')\n",
    "#             break\n",
    "#         prev_loss = new_loss\n",
    "rnn.eval()  "
   ]
  },
  {
   "cell_type": "code",
   "execution_count": 115,
   "metadata": {},
   "outputs": [
    {
     "data": {
      "image/png": "[encoded data removed]",
      "text/plain": [
       "<Figure size 864x288 with 1 Axes>"
      ]
     },
     "metadata": {
      "needs_background": "light"
     },
     "output_type": "display_data"
    }
   ],
   "source": [
    "plt.plot(train_loss_arr, label='train')\n",
    "plt.plot(test_loss_arr, label='test')\n",
    "plt.xlabel('Epoch'); plt.ylabel(\"Loss\"); plt.legend();"
   ]
  },
  {
   "cell_type": "code",
   "execution_count": 116,
   "metadata": {},
   "outputs": [
    {
     "name": "stdout",
     "output_type": "stream",
     "text": [
      "tensor(19.4396, grad_fn=<AddBackward0>)\n"
     ]
    },
    {
     "data": {
      "text/plain": [
       "Text(0.5, 1.0, 'Mean predicted y data')"
      ]
     },
     "execution_count": 116,
     "metadata": {},
     "output_type": "execute_result"
    },
    {
     "data": {
      "image/png": "[encoded data removed]",
      "text/plain": [
       "<Figure size 864x288 with 2 Axes>"
      ]
     },
     "metadata": {
      "needs_background": "light"
     },
     "output_type": "display_data"
    }
   ],
   "source": [
    "full_test_pred = bp.compute_full_pred(xdata=x_test,  model=rnn)\n",
    "print(bp.tau_loss(y_est=full_test_pred, y_true=y_test, model=rnn, reg_param=l1_param))   \n",
    "\n",
    "plt.subplot(121)\n",
    "plt.imshow(y_test.mean(0).numpy())\n",
    "plt.title(\"Mean y_test data\")\n",
    "\n",
    "plt.subplot(122)\n",
    "plt.imshow(full_test_pred.mean(0).detach().numpy())\n",
    "plt.title(\"Mean predicted y data\")"
   ]
  },
  {
   "cell_type": "code",
   "execution_count": 117,
   "metadata": {},
   "outputs": [
    {
     "data": {
      "text/plain": [
       "array(['11', '12', '22', '11', '11', '12', '11', '22', '21', '12', '12',\n",
       "       '22', '22', '11', '22', '22', '11', '22', '11', '11', '12', '22',\n",
       "       '11', '22', '11', '11', '22', '11', '11', '21', '11', '12', '21',\n",
       "       '11', '11', '22', '11', '11', '11', '21', '11', '22', '22', '22',\n",
       "       '12', '11', '11', '11', '21', '22', '11', '22', '12', '22', '21',\n",
       "       '12', '22', '22', '22', '12', '11', '11', '11', '22', '22', '12',\n",
       "       '21', '11', '22', '11', '11', '21', '21', '22', '22', '21', '21',\n",
       "       '22', '22', '11', '11', '11', '11', '21', '11', '22', '21', '11',\n",
       "       '11', '11', '11', '22', '11', '11', '11', '11', '22', '22', '22',\n",
       "       '22', '22', '11', '21', '11', '22', '11', '11', '11', '22', '21',\n",
       "       '22', '21', '22', '11', '11', '22', '11', '22', '11', '21', '11',\n",
       "       '12', '11', '11', '22', '12', '22', '22', '11', '22', '12', '22',\n",
       "       '22', '22', '22', '21', '12', '11', '21', '22', '22', '11', '22',\n",
       "       '11', '22', '21', '22', '11', '22', '11', '22', '11', '12', '11',\n",
       "       '22', '11', '22', '22', '11', '22', '21', '21', '12', '11', '11',\n",
       "       '11', '21', '21', '11', '12', '11', '12', '12', '21', '11', '11',\n",
       "       '21', '22', '22', '22', '11', '11', '12', '11', '11', '21', '11',\n",
       "       '12', '11', '21', '22', '12', '11', '11', '11', '22', '11', '11',\n",
       "       '22', '11'], dtype=object)"
      ]
     },
     "execution_count": 117,
     "metadata": {},
     "output_type": "execute_result"
    }
   ],
   "source": [
    "labels_test"
   ]
  },
  {
   "cell_type": "code",
   "execution_count": 118,
   "metadata": {},
   "outputs": [
    {
     "name": "stdout",
     "output_type": "stream",
     "text": [
      "Trial type: 22\n"
     ]
    },
    {
     "data": {
      "image/png": "[encoded data removed]",
      "text/plain": [
       "<Figure size 864x288 with 3 Axes>"
      ]
     },
     "metadata": {
      "needs_background": "light"
     },
     "output_type": "display_data"
    }
   ],
   "source": [
    "k = 2\n",
    "print(f'Trial type: {labels_test[k]}')\n",
    "pred = bp.compute_full_pred(x_test[k,:,:], model=rnn)\n",
    "plt.rcParams['figure.figsize'] = (12, 4)\n",
    "\n",
    "plt.subplot(121)\n",
    "plt.imshow(y_test[k, :, :].numpy().T, origin='bottom')\n",
    "plt.title(\"y test data\")\n",
    "\n",
    "plt.subplot(122)\n",
    "plt.imshow(pred.mean(0).detach().numpy().T, origin='bottom', vmax=1, vmin=0)\n",
    "plt.title(\"predicted y data\"); plt.colorbar();"
   ]
  },
  {
   "cell_type": "code",
   "execution_count": 119,
   "metadata": {},
   "outputs": [
    {
     "data": {
      "text/plain": [
       "Text(0.5, 24.0, 'Output')"
      ]
     },
     "execution_count": 119,
     "metadata": {},
     "output_type": "execute_result"
    },
    {
     "data": {
      "image/png": "[encoded data removed]",
      "text/plain": [
       "<Figure size 1296x360 with 6 Axes>"
      ]
     },
     "metadata": {
      "needs_background": "light"
     },
     "output_type": "display_data"
    }
   ],
   "source": [
    "plt.rcParams['figure.figsize'] = (18, 5)\n",
    "\n",
    "def plot_weight(ax, rnn_layer, title='weights'):\n",
    "    weights = [x for x in rnn_layer.parameters()][0].detach().numpy().T\n",
    "    cutoff = np.percentile(np.abs(weights), 95)\n",
    "    sns.heatmap(weights, ax=ax, cmap='PiYG', vmax=cutoff, vmin=-1 * cutoff)\n",
    "    ax.set_title(title); \n",
    "    return ax\n",
    "\n",
    "fig, ax_w = plt.subplots(1, 3)\n",
    "plot_weight(ax=ax_w[0], rnn_layer=rnn.lin_input,\n",
    "            title='Input stimulus-neuron weights')\n",
    "ax_w[0].set_yticklabels(freq_labels)\n",
    "ax_w[0].set_xlabel('Neuron'); ax_w[1].set_ylabel('Stimulus')\n",
    "\n",
    "plot_weight(ax=ax_w[1], rnn_layer=rnn.lin_feedback,\n",
    "            title='Feedback neuron-neuron weights')\n",
    "ax_w[1].set_xlabel('Neuron'); ax_w[1].set_ylabel('Neuron')\n",
    "\n",
    "plot_weight(ax=ax_w[2], rnn_layer=rnn.lin_output,\n",
    "            title='Ouput neuron-prediction weights')\n",
    "ax_w[2].set_xticklabels(freq_labels)\n",
    "ax_w[2].set_ylabel('Neuron'); ax_w[2].set_xlabel('Output')\n"
   ]
  },
  {
   "cell_type": "code",
   "execution_count": 73,
   "metadata": {},
   "outputs": [
    {
     "data": {
      "text/plain": [
       "array([<matplotlib.axes._subplots.AxesSubplot object at 0x7fac8860e550>,\n",
       "       <matplotlib.axes._subplots.AxesSubplot object at 0x7fac88565f60>,\n",
       "       <matplotlib.axes._subplots.AxesSubplot object at 0x7fac8851c550>],\n",
       "      dtype=object)"
      ]
     },
     "execution_count": 73,
     "metadata": {},
     "output_type": "execute_result"
    }
   ],
   "source": [
    "ax_w"
   ]
  },
  {
   "cell_type": "code",
   "execution_count": 81,
   "metadata": {},
   "outputs": [],
   "source": [
    "tmp = np.random.randn(10, 5)\n",
    "tmp1 = np.zeros((20, 5))\n",
    "for ii in range(tmp.shape[0]):\n",
    "    tmp1[(2 * ii):(2 * (ii + 1)), :] = tmp[ii, :]"
   ]
  },
  {
   "cell_type": "code",
   "execution_count": 82,
   "metadata": {},
   "outputs": [
    {
     "data": {
      "text/plain": [
       "array([[ 0.09659595,  0.70497852,  0.56891306, -1.7795923 , -0.46156079],\n",
       "       [ 0.63850639, -0.32898583, -0.14841068,  0.87252975, -1.13921373],\n",
       "       [-1.61826584, -0.22419468,  0.5741876 ,  1.77324646,  0.80281906],\n",
       "       [-0.67479526, -1.38901704,  0.48285858,  1.40398661, -0.17588408],\n",
       "       [ 1.62737421,  0.03197466,  0.65093349, -1.3425068 ,  1.55267457],\n",
       "       [-0.36310053,  2.63182436, -0.19091496,  0.31510716, -1.51090074],\n",
       "       [-0.81550683,  0.66188994, -0.18778411, -0.03316973, -0.85959681],\n",
       "       [ 0.2436453 ,  0.20710325,  0.2906362 ,  0.74235229, -0.16317065],\n",
       "       [ 0.81771947,  0.64236422, -0.31044013,  1.42412783,  0.91551909],\n",
       "       [ 0.91037767,  0.9186534 , -0.29685798,  0.31098482,  2.24686362]])"
      ]
     },
     "execution_count": 82,
     "metadata": {},
     "output_type": "execute_result"
    }
   ],
   "source": [
    "tmp\n"
   ]
  },
  {
   "cell_type": "code",
   "execution_count": 83,
   "metadata": {},
   "outputs": [
    {
     "data": {
      "text/plain": [
       "array([[ 0.09659595,  0.70497852,  0.56891306, -1.7795923 , -0.46156079],\n",
       "       [ 0.09659595,  0.70497852,  0.56891306, -1.7795923 , -0.46156079],\n",
       "       [ 0.63850639, -0.32898583, -0.14841068,  0.87252975, -1.13921373],\n",
       "       [ 0.63850639, -0.32898583, -0.14841068,  0.87252975, -1.13921373],\n",
       "       [-1.61826584, -0.22419468,  0.5741876 ,  1.77324646,  0.80281906],\n",
       "       [-1.61826584, -0.22419468,  0.5741876 ,  1.77324646,  0.80281906],\n",
       "       [-0.67479526, -1.38901704,  0.48285858,  1.40398661, -0.17588408],\n",
       "       [-0.67479526, -1.38901704,  0.48285858,  1.40398661, -0.17588408],\n",
       "       [ 1.62737421,  0.03197466,  0.65093349, -1.3425068 ,  1.55267457],\n",
       "       [ 1.62737421,  0.03197466,  0.65093349, -1.3425068 ,  1.55267457],\n",
       "       [-0.36310053,  2.63182436, -0.19091496,  0.31510716, -1.51090074],\n",
       "       [-0.36310053,  2.63182436, -0.19091496,  0.31510716, -1.51090074],\n",
       "       [-0.81550683,  0.66188994, -0.18778411, -0.03316973, -0.85959681],\n",
       "       [-0.81550683,  0.66188994, -0.18778411, -0.03316973, -0.85959681],\n",
       "       [ 0.2436453 ,  0.20710325,  0.2906362 ,  0.74235229, -0.16317065],\n",
       "       [ 0.2436453 ,  0.20710325,  0.2906362 ,  0.74235229, -0.16317065],\n",
       "       [ 0.81771947,  0.64236422, -0.31044013,  1.42412783,  0.91551909],\n",
       "       [ 0.81771947,  0.64236422, -0.31044013,  1.42412783,  0.91551909],\n",
       "       [ 0.91037767,  0.9186534 , -0.29685798,  0.31098482,  2.24686362],\n",
       "       [ 0.91037767,  0.9186534 , -0.29685798,  0.31098482,  2.24686362]])"
      ]
     },
     "execution_count": 83,
     "metadata": {},
     "output_type": "execute_result"
    }
   ],
   "source": [
    "tmp1"
   ]
  }
 ],
 "metadata": {
  "kernelspec": {
   "display_name": "Python 3",
   "language": "python",
   "name": "python3"
  },
  "language_info": {
   "codemirror_mode": {
    "name": "ipython",
    "version": 3
   },
   "file_extension": ".py",
   "mimetype": "text/x-python",
   "name": "python",
   "nbconvert_exporter": "python",
   "pygments_lexer": "ipython3",
   "version": "3.7.0"
  }
 },
 "nbformat": 4,
 "nbformat_minor": 2
}
