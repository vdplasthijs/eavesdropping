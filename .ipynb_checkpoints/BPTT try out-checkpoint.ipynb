{
 "cells": [
  {
   "cell_type": "code",
   "execution_count": 1,
   "metadata": {},
   "outputs": [],
   "source": [
    "import numpy as np\n",
    "import matplotlib.pyplot as plt\n",
    "import torch\n",
    "from torch import nn\n",
    "import torch.nn.functional as F\n",
    "from torch.utils.data import TensorDataset, DataLoader\n",
    "import BPTTRNN as bp\n",
    "import time\n",
    "# import sklearn.svm\n",
    "%load_ext autoreload\n",
    "%autoreload 2"
   ]
  },
  {
   "cell_type": "markdown",
   "metadata": {},
   "source": [
    "## Create synthetic data\n",
    "There are 8 possible values: \n",
    "- 0 $blank/0$\n",
    "- 1 $A_1$\n",
    "- 2 $A_2$\n",
    "- 3 $B_1$\n",
    "- 4 $B_2$\n",
    "- 5 $C_1$\n",
    "- 6 $C_2$\n",
    "- 7 $D$\n",
    "\n",
    "Data points are thus 8-dim vectors, with:\n",
    "\n",
    "$z_{k, t} = (1_{0}, 1_{A_1}, 1_{A_2}, ... , 1_{D})$\n",
    "\n",
    "where $k$ is the trial index, and $t$ is the trial time. Hence $|z_{k, t}| = 1 $ before white noise is added. Trials will be $T=9$ data points long, and of form:\n",
    "\n",
    "$ 0, A_{\\alpha}, 0, B_{\\alpha}, 0, C_{\\beta}, 0, D, 0 $\n",
    "\n",
    "where $\\alpha, \\beta \\in (1, 2)$, although I must use shorter sequences for testing (e.g. $0, A_{\\alpha}, 0, B_{\\alpha}, 0$).\n",
    "\n",
    "Network input $x_k = z_{k, 0:T-1}$ and output $y_k = z_{k, 1:T}$. "
   ]
  },
  {
   "cell_type": "code",
   "execution_count": 2,
   "metadata": {},
   "outputs": [],
   "source": [
    "n_total = 100  # total number of data sequences\n",
    "n_freq = 3  # blank through D\n",
    "n_times = 5\n",
    "\n",
    "ratio_train = 0.8\n",
    "ratio_exp = 0.5  # probabilities of switching between alpha nd beta\n",
    "noise_scale = 0.05\n",
    "\n",
    "x_train, y_train, x_test, y_test = bp.generate_synt_data(n_total=n_total, \n",
    "                                           n_times=n_times, n_freq=n_freq,\n",
    "                                           ratio_train=ratio_train, ratio_exp=ratio_exp, \n",
    "                                           noise_scale=noise_scale)\n"
   ]
  },
  {
   "cell_type": "markdown",
   "metadata": {},
   "source": [
    "## RNN Model with BPTT\n",
    "\n",
    "#### RNN model:\n",
    "\n",
    "$(x_t, s_{t-1}) \\to s_t \\to \\hat{y}_t == y_t = x_{t+1} $\n",
    "\n",
    "within one trial $k$. \n",
    "Equations:\n",
    "\n",
    "$s_t = \\tanh( U \\cdot x_t + W \\cdot s_{t-1})$\n",
    "\n",
    "\n",
    "$\\hat{y}_t = softmax(V \\cdot s_t) = \\left( \\frac{e^{V_i \\cdot s_t}}{\\sum_i e^{V_i \\cdot s_t}} \\right), \\; for \\; i \\in (0, A_1, A_2 ... D)$\n",
    "\n",
    "where $U_{n x f}, W_{n x n}, V_{f x n}$ are matrices where $n$ is the number of RNN nodes and $f$ the number of input/output frequencies.\n",
    "\n",
    "#### Training procedure:\n",
    "\n",
    "The full sequence $x_k$ is forwarded through the model, yielding $\\hat{y}_k$. This is used to compute the loss function $L$, which error is backpropagated through time (BPTT) to the parameters $U, W, V$ (updated with SGD probably). \n",
    "The loss function $L$ uses cross entropy:\n",
    "\n",
    "$L_k = \\sum_{\\tau} - y_{k, \\tau} \\log \\hat{y}_{k, \\tau}$ + regularisation?\n",
    "\n",
    "where $\\tau$ defines the trial times that are taken into account for Loss computation. \n",
    "\n",
    "$ \\begin{equation}\n",
    "    \\tau =\n",
    "    \\begin{cases}\n",
    "      (0, 1, 2, ... 8), & \\text{all} \\\\\n",
    "      (1, 3, 5, 7), & \\text{non-blank (nb)}\\\\\n",
    "      (3, 5, 7), & \\text{non-initial nb (ninb)}\n",
    "    \\end{cases}\n",
    "  \\end{equation}$\n",
    "\n",
    "#### Initial conditions:\n",
    "\n",
    "Tricky.. Maybe start on each trials with either zero, or small-magnitude noise, for $s_{k, -1}$? The sequence $0, A_{\\alpha}, 0$ then should provide a sensible initialisation, needed for $B_{\\alpha}$ prediction... ?  \n",
    "\n",
    "\n",
    "#### Pseudo-algorithm:\n",
    "\n",
    "    for $it$ in epochs:\n",
    "        for $k$ in trials:\n",
    "            for $t$ in times:\n",
    "                rnn.forward($x_t$)\n",
    "            compute loss $L_k$\n",
    "            update parameters with BPTT\n"
   ]
  },
  {
   "cell_type": "code",
   "execution_count": 3,
   "metadata": {},
   "outputs": [],
   "source": [
    "## Set training parameters:\n",
    "n_nodes = 20\n",
    "learning_rate = 0.1\n",
    "bs = 1\n",
    "n_epochs = 100\n",
    "check_conv = False\n",
    "conv_rel_tol = 1e-6\n",
    "l1_param = 1e-4\n",
    "\n",
    "## Create data loader objects:\n",
    "train_ds = TensorDataset(x_train, y_train)\n",
    "train_dl = DataLoader(train_ds, batch_size=bs)\n",
    "\n",
    "test_ds = TensorDataset(x_test, y_test)\n",
    "test_dl = DataLoader(test_ds, batch_size=bs)"
   ]
  },
  {
   "cell_type": "code",
   "execution_count": 15,
   "metadata": {},
   "outputs": [],
   "source": [
    "rnn = bp.RNN(n_stim=n_freq, n_nodes=n_nodes)\n",
    "opt = torch.optim.SGD(rnn.parameters(), lr=learning_rate)\n",
    "prev_loss = 10"
   ]
  },
  {
   "cell_type": "code",
   "execution_count": 16,
   "metadata": {},
   "outputs": [
    {
     "name": "stdout",
     "output_type": "stream",
     "text": [
      "Initialising traing\n",
      "Train performance:\n",
      "epoch 1,  loss: 0.014788556843996048\n",
      "epoch 11,  loss: 0.010342100635170937\n",
      "epoch 21,  loss: 0.009779108688235283\n",
      "epoch 31,  loss: 0.009392372332513332\n",
      "epoch 41,  loss: 0.009055432863533497\n",
      "epoch 51,  loss: 0.008745151571929455\n",
      "epoch 61,  loss: 0.008453406393527985\n",
      "epoch 71,  loss: 0.008185671642422676\n",
      "epoch 81,  loss: 0.007947362028062344\n",
      "epoch 91,  loss: 0.0077215563505887985\n"
     ]
    },
    {
     "data": {
      "text/plain": [
       "RNN(\n",
       "  (lin_input): Linear(in_features=3, out_features=20, bias=True)\n",
       "  (lin_feedback): Linear(in_features=20, out_features=20, bias=True)\n",
       "  (lin_output): Linear(in_features=20, out_features=3, bias=True)\n",
       ")"
      ]
     },
     "execution_count": 16,
     "metadata": {},
     "output_type": "execute_result"
    }
   ],
   "source": [
    "print('Initialising traing')\n",
    "print('Train performance:')\n",
    "\n",
    "train_loss_arr = np.zeros(n_epochs)\n",
    "test_loss_arr = np.zeros(n_epochs)\n",
    "for epoch in range(n_epochs):\n",
    "    rnn.train()\n",
    "    for xb, yb in train_dl:  # returns torch(n_bs x n_times x n_freq)\n",
    "        full_pred = bp.compute_full_pred(model=rnn, xdata=xb, ydata=yb)\n",
    "        loss = bp.tau_loss(y_est=full_pred, y_true=yb, model=rnn, reg_param=l1_param)\n",
    "        loss.backward()  # compute gradients\n",
    "        opt.step()  # update \n",
    "        opt.zero_grad()  \n",
    "\n",
    "    rnn.eval()\n",
    "    with torch.no_grad():\n",
    "        full_pred = bp.compute_full_pred(model=rnn, xdata=x_train, ydata=y_train)\n",
    "        loss = bp.tau_loss(y_est=full_pred, y_true=y_train, model=rnn, reg_param=l1_param)\n",
    "        train_loss_arr[epoch] = float(loss.detach().numpy())\n",
    "        \n",
    "        full_pred = bp.compute_full_pred(model=rnn, xdata=x_test, ydata=y_test)\n",
    "        loss = bp.tau_loss(y_est=full_pred, y_true=y_test, model=rnn, reg_param=l1_param)\n",
    "        test_loss_arr[epoch] = float(loss.detach().numpy())\n",
    "        \n",
    "    if epoch % 10 == 1:\n",
    "        print(f'epoch {epoch},  loss: {loss}')\n",
    "        \n",
    "#     if check_conv:\n",
    "#         new_loss = loss_function(pred, yb).detach().numpy()\n",
    "#         diff = np.abs(new_loss - prev_loss) / (new_loss + prev_loss)\n",
    "#         if diff < conv_rel_tol:\n",
    "#             print(f'Converged at epoch {epoch},  loss: {loss_function(pred, yb)}')\n",
    "#             break\n",
    "#         prev_loss = new_loss\n",
    "rnn.eval()  "
   ]
  },
  {
   "cell_type": "code",
   "execution_count": 18,
   "metadata": {},
   "outputs": [
    {
     "data": {
      "image/png": "[encoded data removed]",
      "text/plain": [
       "<Figure size 432x288 with 1 Axes>"
      ]
     },
     "metadata": {
      "needs_background": "light"
     },
     "output_type": "display_data"
    }
   ],
   "source": [
    "plt.plot(train_loss_arr, label='train')\n",
    "plt.plot(test_loss_arr, label='test')\n",
    "plt.xlabel('Epoch'); plt.ylabel(\"Loss\"); plt.legend();"
   ]
  },
  {
   "cell_type": "code",
   "execution_count": 289,
   "metadata": {},
   "outputs": [
    {
     "name": "stdout",
     "output_type": "stream",
     "text": [
      "shape xdata: torch.Size([20, 4, 3])\n",
      "n samples: 20\n",
      "tensor(0.0075, grad_fn=<AddBackward0>)\n"
     ]
    },
    {
     "data": {
      "text/plain": [
       "Text(0.5, 1.0, 'Mean predicted y data')"
      ]
     },
     "execution_count": 289,
     "metadata": {},
     "output_type": "execute_result"
    },
    {
     "data": {
      "image/png": "[encoded data removed]",
      "text/plain": [
       "<Figure size 432x288 with 2 Axes>"
      ]
     },
     "metadata": {
      "needs_background": "light"
     },
     "output_type": "display_data"
    }
   ],
   "source": [
    "full_test_pred = bp.compute_full_pred(xdata=x_test, ydata=y_test, model=rnn)\n",
    "print(bp.tau_loss(y_est=full_test_pred, y_true=y_test, model=rnn, reg_param=l1_param))   \n",
    "\n",
    "plt.subplot(121)\n",
    "plt.imshow(y_test.mean(0).numpy())\n",
    "plt.title(\"Mean y_test data\")\n",
    "plt.subplot(122)\n",
    "plt.imshow(full_test_pred.mean(0).detach().numpy())\n",
    "plt.title(\"Mean predicted y data\")"
   ]
  }
 ],
 "metadata": {
  "kernelspec": {
   "display_name": "Python 3",
   "language": "python",
   "name": "python3"
  },
  "language_info": {
   "codemirror_mode": {
    "name": "ipython",
    "version": 3
   },
   "file_extension": ".py",
   "mimetype": "text/x-python",
   "name": "python",
   "nbconvert_exporter": "python",
   "pygments_lexer": "ipython3",
   "version": "3.7.0"
  }
 },
 "nbformat": 4,
 "nbformat_minor": 2
}
