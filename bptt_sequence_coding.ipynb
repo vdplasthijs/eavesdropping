{
 "cells": [
  {
   "cell_type": "code",
   "execution_count": 1,
   "metadata": {},
   "outputs": [],
   "source": [
    "import numpy as np\n",
    "import matplotlib.pyplot as plt\n",
    "import torch\n",
    "from torch import nn\n",
    "import torch.nn.functional as F\n",
    "from torch.utils.data import TensorDataset, DataLoader\n",
    "import BPTTRNN as bp\n",
    "import time\n",
    "import seaborn as sns\n",
    "import sklearn.svm\n",
    "%load_ext autoreload\n",
    "%autoreload 2"
   ]
  },
  {
   "cell_type": "code",
   "execution_count": 2,
   "metadata": {},
   "outputs": [],
   "source": [
    "single_time_labels = ['0', 'A', '0', 'B', '0', 'C', '0', 'D', '0']\n",
    "double_time_labels = []\n",
    "double_time_labels_half = []\n",
    "for stl in single_time_labels:\n",
    "    double_time_labels.append(stl)\n",
    "    double_time_labels.append(stl)\n",
    "    double_time_labels_half.append(stl)\n",
    "    double_time_labels_half.append('')\n",
    "double_time_labels_blank = [x.replace('0', '') for x in double_time_labels]\n",
    "assert len(double_time_labels_half) == len(double_time_labels)"
   ]
  },
  {
   "cell_type": "markdown",
   "metadata": {},
   "source": [
    "## Create synthetic data\n",
    "There are 8 possible values: \n",
    "- 0 $blank/0$\n",
    "- 1 $A_1$\n",
    "- 2 $A_2$\n",
    "- 3 $B_1$\n",
    "- 4 $B_2$\n",
    "- 5 $C_1$\n",
    "- 6 $C_2$\n",
    "- 7 $D$\n",
    "\n",
    "Data points are thus 8-dim vectors, with:\n",
    "\n",
    "$z_{k, t} = (1_{0}, 1_{A_1}, 1_{A_2}, ... , 1_{D})$\n",
    "\n",
    "where $k$ is the trial index, and $t$ is the trial time. Hence $|z_{k, t}| = 1 $ before white noise is added. Trials will be either $T=9$ data points long (single), and of form:\n",
    "\n",
    "$ 0, A_{\\alpha}, 0, B_{\\alpha}, 0, C_{\\beta}, 0, D, 0 $\n",
    "\n",
    "or of length $T=18$ (double), and of form:\n",
    "\n",
    "$ 0, 0, A_{\\alpha}, A_{\\alpha}, 0, 0, B_{\\alpha}, B_{\\alpha}, 0, 0, C_{\\beta}, C_{\\beta}, 0, 0, D, D, 0, 0 $\n",
    "\n",
    "where $\\alpha, \\beta \\in (1, 2)$, although one can use shorter sequences for testing (e.g. $0, A_{\\alpha}, 0, B_{\\alpha}, 0$). The expected sequence is $\\alpha = \\beta$, and the unexpected sequence is $\\alpha \\neq \\beta$.\n",
    "\n",
    "Network input $x_k = z_{k, 0:T-1}$ and output $y_k = z_{k, 1:T}$. "
   ]
  },
  {
   "cell_type": "code",
   "execution_count": 3,
   "metadata": {},
   "outputs": [],
   "source": [
    "d_dict = {  # data parameters dictionary\n",
    "        'n_total': 1000,  # total number of data sequences\n",
    "        'n_freq': 8,  # blank through D\n",
    "        'n_times': 9,\n",
    "        'doublesse': True,\n",
    "        'ratio_train': 0.8,\n",
    "        'ratio_exp': 0.75,  # probabilities of switching between alpha nd beta\n",
    "        'noise_scale': 0.1\n",
    "        }\n",
    "if d_dict['doublesse']:\n",
    "    eval_times = np.arange(4, 17)  # double\n",
    "    d_dict['sequence'] = np.array(double_time_labels)\n",
    "elif d_dict['doublesse'] is False:\n",
    "    eval_times = np.arange(1, 8)  # single\n",
    "    d_dict['sequence'] = np.array(single_time_labels)\n",
    "t_dict = {'eval_times': eval_times}  # training paramter dictionary\n",
    "\n",
    "freq_labels = ['0', 'A1', 'A2', 'B1', 'B2', 'C1', 'C2', 'D']\n",
    "tmp0, tmp1 = bp.generate_synt_data(n_total=d_dict['n_total'], \n",
    "                                   n_times=d_dict['n_times'], \n",
    "                                   n_freq=d_dict['n_freq'],\n",
    "                                   ratio_train=d_dict['ratio_train'], \n",
    "                                   ratio_exp=d_dict['ratio_exp'], \n",
    "                                   noise_scale=d_dict['noise_scale'], \n",
    "                                   double_length=d_dict['doublesse'])\n",
    "x_train, y_train, x_test, y_test = tmp0\n",
    "labels_train, labels_test = tmp1"
   ]
  },
  {
   "cell_type": "markdown",
   "metadata": {},
   "source": [
    "## RNN Model with BPTT\n",
    "\n",
    "#### RNN model:\n",
    "\n",
    "$(x_t, s_{t-1}) \\to s_t \\to \\hat{y}_t == y_t = x_{t+1} $\n",
    "\n",
    "within one trial $k$. \n",
    "Equations:\n",
    "\n",
    "$s_t = \\tanh( U \\cdot x_t + W \\cdot s_{t-1})$\n",
    "\n",
    "\n",
    "$\\hat{y}_t = softmax(V \\cdot s_t) = \\left( \\frac{e^{V_i \\cdot s_t}}{\\sum_i e^{V_i \\cdot s_t}} \\right), \\; for \\; i \\in (0, A_1, A_2 ... D)$\n",
    "\n",
    "where $U_{n x f}, W_{n x n}, V_{f x n}$ are matrices where $n$ is the number of RNN nodes and $f$ the number of input/output frequencies.\n",
    "\n",
    "#### Training procedure:\n",
    "\n",
    "The full sequence $x_k$ is forwarded through the model, yielding $\\hat{y}_k$. This is used to compute the loss function $L$, which error is backpropagated through time (BPTT) to the parameters $\\theta = (U, W, V)$ (updated with SGD probably). \n",
    "The loss function $L$ uses cross entropy and L1 regularisation:\n",
    "\n",
    "$L_k = \\sum_{\\tau} - y_{k, \\tau} \\log \\hat{y}_{k, \\tau} + \\lambda \\cdot ||\\theta||_1$\n",
    "\n",
    "where $\\tau$ defines the trial times that are taken into account for Loss computation. \n",
    "\n",
    "$ \\begin{equation}\n",
    "    \\tau =\n",
    "    \\begin{cases}\n",
    "      (0, 1, 2, ... 8), & \\text{all} \\\\\n",
    "      (1, 3, 5, 7), & \\text{non-blank (nb)}\\\\\n",
    "      (3, 5, 7), & \\text{non-initial nb (ninb)}\n",
    "    \\end{cases}\n",
    "  \\end{equation}$\n",
    "\n",
    "#### Initial conditions:\n",
    "\n",
    "Tricky.. Maybe start on each trials with either zero, or small-magnitude noise, for $s_{k, -1}$? The sequence $0, A_{\\alpha}, 0$ then should provide a sensible initialisation, needed for $B_{\\alpha}$ prediction... ?  \n",
    "\n",
    "\n",
    "#### Pseudo-algorithm:\n",
    "\n",
    "    for $it$ in epochs:\n",
    "        for $k$ in trials:\n",
    "            for $t$ in times:\n",
    "                rnn.forward($x_t$)\n",
    "            compute loss $L_k$\n",
    "            update parameters with BPTT\n"
   ]
  },
  {
   "cell_type": "code",
   "execution_count": 4,
   "metadata": {},
   "outputs": [],
   "source": [
    "## Set training parameters:\n",
    "t_dict['n_nodes'] = 20  # number of nodes in the RNN \n",
    "if d_dict['doublesse']:\n",
    "    t_dict['learning_rate'] = 0.01\n",
    "elif d_dict['doublesse'] is False:\n",
    "    t_dict['learning_rate'] = 0.05\n",
    "t_dict['bs'] = 1  # batch size\n",
    "t_dict['n_epochs'] = 100\n",
    "t_dict['l1_param'] = 5e-4  # L1 regularisation in loss function\n",
    "t_dict['check_conv'] = False\n",
    "t_dict['conv_rel_tol'] = 5e-4  # terminate training if relative difference between two epochs is smaller than this \n"
   ]
  },
  {
   "cell_type": "code",
   "execution_count": 25,
   "metadata": {},
   "outputs": [],
   "source": [
    "## Initiate RNN model\n",
    "rnn = bp.RNN(n_stim=d_dict['n_freq'], n_nodes=t_dict['n_nodes'])  # Create RNN class\n",
    "opt = torch.optim.SGD(rnn.parameters(), lr=t_dict['learning_rate'])  # call optimiser from pytorhc\n",
    "rnn.set_info(param_dict={**d_dict, **t_dict})"
   ]
  },
  {
   "cell_type": "code",
   "execution_count": 33,
   "metadata": {},
   "outputs": [
    {
     "name": "stderr",
     "output_type": "stream",
     "text": [
      "Epoch 8/100. Train loss: 0.702508:   8%|▊         | 8/100 [00:41<07:53,  5.15s/it]       "
     ]
    },
    {
     "name": "stdout",
     "output_type": "stream",
     "text": [
      "Training ended prematurely by user at epoch 8.\n"
     ]
    },
    {
     "name": "stderr",
     "output_type": "stream",
     "text": [
      "\n"
     ]
    }
   ],
   "source": [
    "## Train with BPTT\n",
    "rnn = bp.bptt_training(rnn=rnn, optimiser=opt, dict_training_params=t_dict,\n",
    "                x_train=x_train, x_test=x_test, y_train=y_train, y_test=y_test)"
   ]
  },
  {
   "cell_type": "code",
   "execution_count": 8,
   "metadata": {},
   "outputs": [
    {
     "data": {
      "text/plain": [
       "(60, 80)"
      ]
     },
     "execution_count": 8,
     "metadata": {},
     "output_type": "execute_result"
    },
    {
     "data": {
      "image/png": "[encoded data removed]",
      "text/plain": [
       "<Figure size 504x288 with 1 Axes>"
      ]
     },
     "metadata": {
      "needs_background": "light"
     },
     "output_type": "display_data"
    }
   ],
   "source": [
    "plt.rcParams['figure.figsize'] = (7, 4)\n",
    "plt.plot(train_loss_arr, label='train')\n",
    "plt.plot(test_loss_arr, label='test')\n",
    "plt.xlabel('Epoch'); plt.ylabel(\"Loss\"); plt.legend();\n",
    "plt.ylim([0.65, 0.66])\n",
    "plt.xlim([60, 80])"
   ]
  },
  {
   "cell_type": "code",
   "execution_count": 9,
   "metadata": {},
   "outputs": [
    {
     "name": "stdout",
     "output_type": "stream",
     "text": [
      "Trial type: 22\n"
     ]
    },
    {
     "data": {
      "image/png": "[encoded data removed]",
      "text/plain": [
       "<Figure size 864x288 with 4 Axes>"
      ]
     },
     "metadata": {
      "needs_background": "light"
     },
     "output_type": "display_data"
    }
   ],
   "source": [
    "k = 0\n",
    "print(f'Trial type: {labels_test[k]}')\n",
    "pred = bp.compute_full_pred(x_test[k,:,:], model=rnn)\n",
    "plt.rcParams['figure.figsize'] = (12, 4)\n",
    "\n",
    "plt.subplot(121)\n",
    "sns.heatmap(y_test[k, :, :].numpy().T, yticklabels=freq_labels)\n",
    "plt.title(\"y test data\"); plt.xlabel('Time'); plt.ylabel('True data')\n",
    "\n",
    "plt.subplot(122)\n",
    "sns.heatmap(pred.mean(0).detach().numpy().T, vmax=1, vmin=0, yticklabels=freq_labels)\n",
    "plt.title(\"predicted y data\"); plt.xlabel('Time'); plt.ylabel(\"Predictions\");"
   ]
  },
  {
   "cell_type": "code",
   "execution_count": 10,
   "metadata": {},
   "outputs": [
    {
     "data": {
      "text/plain": [
       "Text(0.5, 24.0, 'Output')"
      ]
     },
     "execution_count": 10,
     "metadata": {},
     "output_type": "execute_result"
    },
    {
     "data": {
      "image/png": "[encoded data removed]",
      "text/plain": [
       "<Figure size 1296x360 with 6 Axes>"
      ]
     },
     "metadata": {
      "needs_background": "light"
     },
     "output_type": "display_data"
    }
   ],
   "source": [
    "plt.rcParams['figure.figsize'] = (18, 5)\n",
    "\n",
    "def plot_weights(ax, rnn_layer, title='weights'):\n",
    "    weights = [x for x in rnn_layer.parameters()][0].detach().numpy().T\n",
    "    cutoff = np.percentile(np.abs(weights), 95)\n",
    "    sns.heatmap(weights, ax=ax, cmap='PiYG', vmax=cutoff, vmin=-1 * cutoff)\n",
    "    ax.set_title(title); \n",
    "    return ax\n",
    "\n",
    "fig, ax_w = plt.subplots(1, 3)\n",
    "plot_weights(ax=ax_w[0], rnn_layer=rnn.lin_input,\n",
    "            title='Input stimulus-neuron weights')\n",
    "ax_w[0].set_yticklabels(freq_labels)\n",
    "ax_w[0].set_xlabel('Neuron'); ax_w[1].set_ylabel('Stimulus')\n",
    "\n",
    "plot_weights(ax=ax_w[1], rnn_layer=rnn.lin_feedback,\n",
    "            title='Feedback neuron-neuron weights')\n",
    "ax_w[1].set_xlabel('Neuron'); ax_w[1].set_ylabel('Neuron')\n",
    "\n",
    "plot_weights(ax=ax_w[2], rnn_layer=rnn.lin_output,\n",
    "            title='Ouput neuron-prediction weights')\n",
    "ax_w[2].set_xticklabels(freq_labels)\n",
    "ax_w[2].set_ylabel('Neuron'); ax_w[2].set_xlabel('Output')\n"
   ]
  },
  {
   "cell_type": "markdown",
   "metadata": {},
   "source": [
    "## Cross temporal decoding\n",
    "\n",
    "Each sequence $seq_k$ has labels $\\alpha, \\beta$. We wish to decode $\\alpha$ dynamically per time point, in a cross-temporal manner, from the RNN hidden state $s_t$. Id est, we will create a decoder $dec(t | \\tau) = P(\\alpha = 1 | \\tau)_t$ that is trained at time $\\tau$ but evaluated at time $t$. We can choose to train our decoder with either or both $(\\alpha = \\beta)$ and $(\\alpha \\neq \\beta)$ sequences. To decode, we will use a linear SVM with L2 regularisation (from sklearn). \n",
    "\n",
    "#### Pseudocode\n",
    "\n",
    "    forward run of all trials\n",
    "    for $\\tau$ in T:\n",
    "        train P($\\alpha$ | $\\tau$)\n",
    "        for t in T:\n",
    "            evaluate P($\\alpha$ | $\\tau$)_t"
   ]
  },
  {
   "cell_type": "code",
   "execution_count": 11,
   "metadata": {},
   "outputs": [
    {
     "ename": "NameError",
     "evalue": "name 'n_nodes' is not defined",
     "output_type": "error",
     "traceback": [
      "\u001b[0;31m---------------------------------------------------------------------------\u001b[0m",
      "\u001b[0;31mNameError\u001b[0m                                 Traceback (most recent call last)",
      "\u001b[0;32m<ipython-input-11-a0dbddf3ad9f>\u001b[0m in \u001b[0;36m<module>\u001b[0;34m\u001b[0m\n\u001b[0;32m----> 1\u001b[0;31m forw_mat = {'train': np.zeros((x_train.shape[0], x_train.shape[1], n_nodes)),\n\u001b[0m\u001b[1;32m      2\u001b[0m             'test': np.zeros((x_test.shape[0], x_test.shape[1], n_nodes))}\n\u001b[1;32m      3\u001b[0m \u001b[0;34m\u001b[0m\u001b[0m\n\u001b[1;32m      4\u001b[0m \u001b[0mrnn\u001b[0m\u001b[0;34m.\u001b[0m\u001b[0meval\u001b[0m\u001b[0;34m(\u001b[0m\u001b[0;34m)\u001b[0m\u001b[0;34m\u001b[0m\u001b[0m\n\u001b[1;32m      5\u001b[0m \u001b[0;32mwith\u001b[0m \u001b[0mtorch\u001b[0m\u001b[0;34m.\u001b[0m\u001b[0mno_grad\u001b[0m\u001b[0;34m(\u001b[0m\u001b[0;34m)\u001b[0m\u001b[0;34m:\u001b[0m\u001b[0;34m\u001b[0m\u001b[0m\n",
      "\u001b[0;31mNameError\u001b[0m: name 'n_nodes' is not defined"
     ]
    }
   ],
   "source": [
    "forw_mat = {'train': np.zeros((x_train.shape[0], x_train.shape[1], n_nodes)),\n",
    "            'test': np.zeros((x_test.shape[0], x_test.shape[1], n_nodes))}\n",
    "\n",
    "rnn.eval()\n",
    "with torch.no_grad():\n",
    "    \n",
    "    ## Forward runs:\n",
    "    for kk in range(x_train.shape[0]):  # trial loop\n",
    "        rnn.init_state()\n",
    "        hidden_state = rnn.state  # init state\n",
    "        for tau in range(x_train.shape[1]):  # time loop\n",
    "            hidden_state, output = rnn.forward(inp=x_train[kk, tau, :], \n",
    "                                               rnn_state=hidden_state)  # propagate\n",
    "            forw_mat['train'][kk, tau, :] = hidden_state.numpy()  # save hidden states\n",
    "            \n",
    "    for kk in range(x_test.shape[0]):  # trial loop\n",
    "        rnn.init_state()\n",
    "        hidden_state = rnn.state\n",
    "        for tau in range(x_test.shape[1]):  # time loop\n",
    "            hidden_state, output = rnn.forward(inp=x_test[kk, tau, :], \n",
    "                                               rnn_state=hidden_state)\n",
    "            forw_mat['test'][kk, tau, :] = hidden_state.numpy()\n",
    "    \n",
    "    ## Train decoder\n",
    "    alpha_labels = {'train': np.array([int(x[0]) for x in labels_train]), \n",
    "                    'test': np.array([int(x[0]) for x in labels_test])}\n",
    "    score_mat = np.zeros((x_train.shape[1], x_train.shape[1]))  # T x T\n",
    "    decoder_dict = {}  # save decoder per time \n",
    "    for tau in range(x_train.shape[1]):  # train time loop\n",
    "        decoder_dict[tau] = sklearn.svm.LinearSVC(C=1e-2)  # define SVM\n",
    "        decoder_dict[tau].fit(X=forw_mat['train'][:, tau, :], \n",
    "                              y=alpha_labels['train'])  # train SVM\n",
    "        for tt in range(x_train.shape[1]):  # test time loop \n",
    "            score_mat[tau, tt] = decoder_dict[tau].score(X=forw_mat['test'][:, tt, :],\n",
    "                                                         y=alpha_labels['test'])  # evaluate"
   ]
  },
  {
   "cell_type": "code",
   "execution_count": null,
   "metadata": {
    "scrolled": false
   },
   "outputs": [],
   "source": [
    "# score_mat[0, 5] = -10\n",
    "plt.rcParams['figure.figsize'] = (6, 5)\n",
    "ax_score = sns.heatmap(score_mat, cmap='viridis', xticklabels=double_time_labels_blank[:-1], \n",
    "            yticklabels=double_time_labels_blank[:-1])\n",
    "bottom, top = ax_score.get_ylim()\n",
    "ax_score.set_ylim(bottom + 0.5, top - 0.5)\n",
    "plt.ylabel('Training time tau'); plt.xlabel('Testing time t')\n",
    "plt.title('Cross temporal SVM score');"
   ]
  },
  {
   "cell_type": "code",
   "execution_count": null,
   "metadata": {},
   "outputs": [],
   "source": [
    "angle_change = np.zeros(x_train.shape[1] - 1)\n",
    "for tau in range(x_train.shape[1] - 1):\n",
    "    angle_change[tau] = np.sum(np.abs(decoder_dict[tau].coef_ - decoder_dict[tau + 1].coef_))\n",
    "    \n",
    "plt.rcParams['figure.figsize'] = (5, 3)\n",
    "f, ax_ac = plt.subplots(1, 1)\n",
    "ax_ac.plot(angle_change, linewidth=3)\n",
    "ax_ac.set_xlabel('Time t'); ax_ac.set_ylabel('L1 norm between t and (t + 1)')\n",
    "ax_ac.set_title('Instanteous change in decoder')\n",
    "ax_ac.set_xticks(np.arange(len(angle_change)));\n",
    "ax_ac.set_xticklabels(double_time_labels_blank[:-2]);"
   ]
  },
  {
   "cell_type": "code",
   "execution_count": null,
   "metadata": {},
   "outputs": [],
   "source": [
    "decoder_axes = np.zeros((decoder_dict[0].coef_.size, len(decoder_dict)))\n",
    "for k, v in decoder_dict.items():\n",
    "    decoder_axes[:, k] = v.coef_\n",
    "cutoff_w = np.percentile(np.abs(decoder_axes), 95)\n",
    "plt.rcParams['figure.figsize'] = (4, 6)\n",
    "ax_dec_diag = plt.subplot(3, 1, 1)\n",
    "ax_dec_diag.plot(np.diag(score_mat), linewidth=3)\n",
    "ax_dec_diag.set_ylabel('Score')\n",
    "ax_dec_diag.set_title('Decoding performance (t = tau)')\n",
    "ax_dec_diag.set_xticks(np.arange(len(np.diag(score_mat))));\n",
    "ax_dec_diag.set_xticklabels(double_time_labels_blank[:-1]);\n",
    "ax_dec_diag.set_xlim([-0.5, len(np.diag(score_mat)) - 0.5])\n",
    "plt.subplot(3, 1, (2, 3))\n",
    "ax_dec_w = sns.heatmap(decoder_axes, xticklabels=double_time_labels_blank[:-1],\n",
    "                      vmin=-1 * cutoff_w, vmax=cutoff_w, cmap='PiYG', cbar=False)\n",
    "bottom, top = ax_dec_w.get_ylim()\n",
    "ax_dec_w.set_ylim(bottom + 0.5, top - 0.5)\n",
    "plt.xlabel('Time t'); plt.ylabel('Neuron');"
   ]
  },
  {
   "cell_type": "code",
   "execution_count": null,
   "metadata": {},
   "outputs": [],
   "source": []
  },
  {
   "cell_type": "code",
   "execution_count": null,
   "metadata": {},
   "outputs": [],
   "source": [
    "plt.imshow(forw_mat['train'][12, :, :].T - forw_mat['train'][0, :, :].T, \n",
    "           vmax=0.75, vmin=-0.75, cmap='PiYG')\n",
    "plt.colorbar()"
   ]
  }
 ],
 "metadata": {
  "kernelspec": {
   "display_name": "Python 3",
   "language": "python",
   "name": "python3"
  },
  "language_info": {
   "codemirror_mode": {
    "name": "ipython",
    "version": 3
   },
   "file_extension": ".py",
   "mimetype": "text/x-python",
   "name": "python",
   "nbconvert_exporter": "python",
   "pygments_lexer": "ipython3",
   "version": "3.7.0"
  }
 },
 "nbformat": 4,
 "nbformat_minor": 2
}
